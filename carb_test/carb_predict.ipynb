{
 "cells": [
  {
   "cell_type": "code",
   "execution_count": 1,
   "metadata": {},
   "outputs": [
    {
     "name": "stderr",
     "output_type": "stream",
     "text": [
      "Using TensorFlow backend.\n"
     ]
    }
   ],
   "source": [
    "import numpy as np\n",
    "import scipy as sp\n",
    "import pandas as pd\n",
    "import seaborn as sns\n",
    "import os, re, gc\n",
    "import h5py\n",
    "import matplotlib.pyplot as plt\n",
    "from datetime import datetime\n",
    "from sklearn.metrics import roc_curve, precision_recall_curve, roc_auc_score\n",
    "\n",
    "batch = 256; n_pols = 9\n",
    "path_dir = '/mnt/ML-drive/Artem/Carbon_test/'\n",
    "class_names_ft = [k for k in os.listdir(path_dir) if ('C60' in k or 'C100' in k)]\n",
    "test_types = ['sig','bckg']\n",
    "id_header = ['HeaderID','ViewID','GrainID','pol0','pol1','pol2','pol3','pol4','pol5','pol6','pol7','tr_flag','n_pol']\n",
    "feat_names = ['x','y','z','lx','ly','phi','npx','vol','eps']\n",
    "\n",
    "os.environ[\"CUDA_VISIBLE_DEVICES\"] = '0'\n",
    "from keras.models import load_model\n",
    "import keras.backend as K\n",
    "def swish(x):\n",
    "    \"\"\"\n",
    "    x*sigmoid(x)\n",
    "    \"\"\"\n",
    "    return (K.sigmoid(x) * x)\n",
    "\n",
    "def short_name(name):\n",
    "    if 'keV' in name: return 'Carbon/'+(name.split('_')[0])[1:]\n",
    "    return name"
   ]
  },
  {
   "cell_type": "code",
   "execution_count": 2,
   "metadata": {},
   "outputs": [
    {
     "name": "stdout",
     "output_type": "stream",
     "text": [
      "CPU times: user 36.8 s, sys: 748 ms, total: 37.5 s\n",
      "Wall time: 44.2 s\n"
     ]
    }
   ],
   "source": [
    "%%time\n",
    "model = {}\n",
    "dir_path = {'c100':'C100keV_WithFilter_Blue_/','c60':'C60keV_H_2018Oct04_WithFilter_Blue_/','c30':'C30keV_H_withFilter_Blue_Exposed1500_Re_/'}\n",
    "model_type = {'c100':'no_rot/conv4_3d_res_Carbon-100keV_fog','c60':'no_rot/conv4_3d_res_Carbon-60keV_fog','c30':'no_rot/conv4_3d_res_Carbon-30keV_fog'}\n",
    "for carb in ['c100','c60','c30']:\n",
    "    model[carb] = load_model('/mnt/ML-drive/Artem/Python/NEWS/CNN/networks/res_v3/e50/'+model_type[carb]+'.h5', custom_objects={'swish':swish})"
   ]
  },
  {
   "cell_type": "code",
   "execution_count": null,
   "metadata": {},
   "outputs": [],
   "source": []
  },
  {
   "cell_type": "code",
   "execution_count": 3,
   "metadata": {},
   "outputs": [
    {
     "name": "stdout",
     "output_type": "stream",
     "text": [
      "5982/5982 [==============================] - 8s 1ms/step\n",
      "Carbon/100keV-sig  predict time: 0:00:08.787481 \n",
      "\n",
      "5850/5850 [==============================] - 3s 441us/step\n",
      "Carbon/100keV-bckg  predict time: 0:00:03.037835 \n",
      "\n",
      "3911/3911 [==============================] - 3s 774us/step\n",
      "Carbon/60keV-sig  predict time: 0:00:03.332687 \n",
      "\n",
      "5627/5627 [==============================] - 3s 445us/step\n",
      "Carbon/60keV-bckg  predict time: 0:00:02.986634 \n",
      "\n",
      "total predict time: 0:00:18.145433\n"
     ]
    }
   ],
   "source": [
    "preds = {}\n",
    "start = datetime.now()\n",
    "for name in class_names_ft:\n",
    "    name_ = (name.split('k')[0]).lower()\n",
    "    for tt in test_types:\n",
    "        fold = datetime.now()\n",
    "        with h5py.File('data_9pol.h5', 'r') as dfile:\n",
    "            x_test = dfile[short_name(name)+'/'+tt+'/images'][...]\n",
    "            preds[name_+'-'+tt] = model[name_].predict(x_test[...,np.newaxis], batch_size=batch, verbose=1)\n",
    "            preds[name_+'-'+tt] = np.hstack((dfile[short_name(name)+'/'+tt+'/pol_ids'],preds[name_+'-'+tt]))\n",
    "        with open(dir_path[name_]+name_+'_'+tt+'_pred_yandex.txt','w') as pfile:\n",
    "            for line in preds[name_+'-'+tt]:\n",
    "                line = ','.join([str(k) if (k-int(k)) else str(int(k)) for k in line])\n",
    "                pfile.write(line+'\\n')\n",
    "        print(short_name(name)+'-'+tt,' predict time:',datetime.now()-fold,'\\n')\n",
    "print('total predict time:',datetime.now()-start)"
   ]
  },
  {
   "cell_type": "code",
   "execution_count": 4,
   "metadata": {},
   "outputs": [
    {
     "name": "stdout",
     "output_type": "stream",
     "text": [
      "CPU times: user 38.1 s, sys: 8.81 ms, total: 38.1 s\n",
      "Wall time: 38.3 s\n"
     ]
    }
   ],
   "source": [
    "%%time\n",
    "bfcl_names = ['Header','View','Grain']+['pol'+str(i) for i in range(8)]+['tr_flag','n_pol','pred']\n",
    "test_names = ['Header','View','Grain','Bar_sh','Phy']\n",
    "for sb in ['sig','bckg']:\n",
    "    for carb in ['c100','c60']:\n",
    "        ya_bfcl = pd.read_csv(dir_path[carb]+carb+'_'+sb+'_pred_yandex.txt', names = bfcl_names)\n",
    "        ya_sig = pd.read_csv(dir_path[carb]+carb+'_'+sb+'_grains.txt', names=test_names)\n",
    "        res_bfcl = np.ones((0,ya_sig.shape[1]+1),dtype=int)\n",
    "        i=0\n",
    "        with open(dir_path[carb]+carb+'_'+sb+'_pred_grains.txt','w') as pfile:\n",
    "            for _,row in ya_sig.iterrows():\n",
    "                tmp_bfcl = ya_bfcl[ya_bfcl['View']==row['View']]\n",
    "                #tmp_bfcl = tmp_bfcl[tmp_bfcl['View']==row['View']]\n",
    "                if not (tmp_bfcl['Grain']==row['Grain']).any():\n",
    "                    i+=1\n",
    "                    if not i%100: print(i,'\\n',row,'\\n\\n')\n",
    "                tmp_bfcl = tmp_bfcl[tmp_bfcl['Grain']==row['Grain']]\n",
    "                res_bfcl = np.vstack((res_bfcl,np.append(row.values,tmp_bfcl['pred'].values)))\n",
    "                line = ','.join([str(k) if (k-int(k)) else str(int(k)) for k in np.append(row.values,tmp_bfcl['pred'].values)])\n",
    "                pfile.write(line+'\\n')\n",
    "        #np.savetxt(dir_path[carb]+carb+'_'+sb+'_res_yandex.txt',res_bfcl,fmt='%d',delimiter=',')"
   ]
  },
  {
   "cell_type": "code",
   "execution_count": null,
   "metadata": {},
   "outputs": [],
   "source": []
  }
 ],
 "metadata": {
  "kernelspec": {
   "display_name": "Python 3",
   "language": "python",
   "name": "python3"
  },
  "language_info": {
   "codemirror_mode": {
    "name": "ipython",
    "version": 3
   },
   "file_extension": ".py",
   "mimetype": "text/x-python",
   "name": "python",
   "nbconvert_exporter": "python",
   "pygments_lexer": "ipython3",
   "version": "3.6.7"
  }
 },
 "nbformat": 4,
 "nbformat_minor": 2
}
