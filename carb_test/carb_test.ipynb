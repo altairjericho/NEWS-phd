{
 "cells": [
  {
   "cell_type": "code",
   "execution_count": 1,
   "metadata": {},
   "outputs": [
    {
     "name": "stdout",
     "output_type": "stream",
     "text": [
      "Welcome to JupyROOT 6.14/04\n"
     ]
    }
   ],
   "source": [
    "import ROOT\n",
    "import numpy as np\n",
    "import pandas as pd\n",
    "import os, re, gc, h5py\n",
    "from sklearn.model_selection import train_test_split\n",
    "import matplotlib.pyplot as plt\n",
    "from datetime import datetime\n",
    "from data_utils import *"
   ]
  },
  {
   "cell_type": "code",
   "execution_count": 2,
   "metadata": {},
   "outputs": [
    {
     "name": "stdout",
     "output_type": "stream",
     "text": [
      "27659\n",
      "22425\n",
      "227540\n"
     ]
    }
   ],
   "source": [
    "dir_path = {'c100':'C100keV_WithFilter_Blue_/','c60':'C60keV_H_2018Oct04_WithFilter_Blue_/','c30':'C30keV_H_withFilter_Blue_Exposed1500_Re_/'}\n",
    "for carb in ['c100','c60','c30']:\n",
    "    with open(dir_path[carb]+carb+'_yandex_bfcl.txt','r') as yand:\n",
    "        lines = yand.readlines()\n",
    "        for i,line in enumerate(lines):\n",
    "            lines[i] = ','.join(line.split())\n",
    "    print(len(lines))\n",
    "    with open(dir_path[carb]+carb+'_yandex_bfcl_coma.txt','w') as comas:\n",
    "        for i,line in enumerate(lines):\n",
    "            comas.write(line+'\\n')\n",
    "            \n",
    "with open(dir_path[carb]+carb+'_yandex_bfcl_coma.txt','r') as ff:\n",
    "    print('\\n',ff.readlines()[0])"
   ]
  },
  {
   "cell_type": "code",
   "execution_count": null,
   "metadata": {},
   "outputs": [],
   "source": []
  },
  {
   "cell_type": "code",
   "execution_count": 2,
   "metadata": {},
   "outputs": [],
   "source": [
    "bfcl_names = ['Header','View','Grain']+['pol'+str(i) for i in range(8)]+['tr_flag','n_pol']\n",
    "test_names = ['Header','View','Grain','Bar_sh','Phy']\n",
    "for sb in ['sig','bkg']:\n",
    "    for carb in ['c100','c60','c30']:\n",
    "        ya_bfcl = pd.read_csv(dir_path[carb]+carb+'_yandex_bfcl_coma.txt', names = bfcl_names)\n",
    "        ya_sig = pd.read_csv(dir_path[carb]+carb+'_'+sb+'_grains.txt', names=test_names)\n",
    "        res_bfcl = np.ones((0,*ya_bfcl.shape[1:]),dtype=int)\n",
    "        i=0\n",
    "        for _,row in ya_sig.iterrows():\n",
    "            tmp_bfcl = ya_bfcl[ya_bfcl['View']==row['View']]\n",
    "            #tmp_bfcl = tmp_bfcl[tmp_bfcl['View']==row['View']]\n",
    "            if not (tmp_bfcl['Grain']==row['Grain']).any():\n",
    "                i+=1\n",
    "                if not i%100: print(i,'\\n',row,'\\n\\n')\n",
    "            tmp_bfcl = tmp_bfcl[tmp_bfcl['Grain']==row['Grain']]\n",
    "            res_bfcl = np.vstack((res_bfcl,tmp_bfcl.values))\n",
    "        np.savetxt(dir_path[carb]+carb+'_'+sb+'_res_yandex.txt',res_bfcl,fmt='%d',delimiter=',')"
   ]
  },
  {
   "cell_type": "code",
   "execution_count": null,
   "metadata": {},
   "outputs": [],
   "source": []
  },
  {
   "cell_type": "code",
   "execution_count": 4,
   "metadata": {},
   "outputs": [],
   "source": [
    "ya_bfcl.head(5)"
   ]
  },
  {
   "cell_type": "code",
   "execution_count": 6,
   "metadata": {},
   "outputs": [
    {
     "data": {
      "text/html": [
       "<div>\n",
       "<style scoped>\n",
       "    .dataframe tbody tr th:only-of-type {\n",
       "        vertical-align: middle;\n",
       "    }\n",
       "\n",
       "    .dataframe tbody tr th {\n",
       "        vertical-align: top;\n",
       "    }\n",
       "\n",
       "    .dataframe thead th {\n",
       "        text-align: right;\n",
       "    }\n",
       "</style>\n",
       "<table border=\"1\" class=\"dataframe\">\n",
       "  <thead>\n",
       "    <tr style=\"text-align: right;\">\n",
       "      <th></th>\n",
       "      <th>Header</th>\n",
       "      <th>View</th>\n",
       "      <th>Grain</th>\n",
       "      <th>Bar_sh</th>\n",
       "      <th>Phy</th>\n",
       "    </tr>\n",
       "  </thead>\n",
       "  <tbody>\n",
       "    <tr>\n",
       "      <th>0</th>\n",
       "      <td>1</td>\n",
       "      <td>0</td>\n",
       "      <td>1</td>\n",
       "      <td>0.089997</td>\n",
       "      <td>-0.423279</td>\n",
       "    </tr>\n",
       "    <tr>\n",
       "      <th>1</th>\n",
       "      <td>1</td>\n",
       "      <td>0</td>\n",
       "      <td>11</td>\n",
       "      <td>0.084007</td>\n",
       "      <td>0.382205</td>\n",
       "    </tr>\n",
       "    <tr>\n",
       "      <th>2</th>\n",
       "      <td>1</td>\n",
       "      <td>0</td>\n",
       "      <td>20</td>\n",
       "      <td>0.058055</td>\n",
       "      <td>-0.118850</td>\n",
       "    </tr>\n",
       "    <tr>\n",
       "      <th>3</th>\n",
       "      <td>1</td>\n",
       "      <td>0</td>\n",
       "      <td>22</td>\n",
       "      <td>0.054200</td>\n",
       "      <td>-0.596416</td>\n",
       "    </tr>\n",
       "    <tr>\n",
       "      <th>4</th>\n",
       "      <td>1</td>\n",
       "      <td>0</td>\n",
       "      <td>23</td>\n",
       "      <td>0.048908</td>\n",
       "      <td>1.385510</td>\n",
       "    </tr>\n",
       "  </tbody>\n",
       "</table>\n",
       "</div>"
      ],
      "text/plain": [
       "   Header  View  Grain    Bar_sh       Phy\n",
       "0       1     0      1  0.089997 -0.423279\n",
       "1       1     0     11  0.084007  0.382205\n",
       "2       1     0     20  0.058055 -0.118850\n",
       "3       1     0     22  0.054200 -0.596416\n",
       "4       1     0     23  0.048908  1.385510"
      ]
     },
     "execution_count": 6,
     "metadata": {},
     "output_type": "execute_result"
    }
   ],
   "source": [
    "ya_sig.head(5)"
   ]
  },
  {
   "cell_type": "code",
   "execution_count": null,
   "metadata": {},
   "outputs": [],
   "source": []
  },
  {
   "cell_type": "code",
   "execution_count": null,
   "metadata": {},
   "outputs": [],
   "source": []
  },
  {
   "cell_type": "code",
   "execution_count": 3,
   "metadata": {},
   "outputs": [
    {
     "name": "stdout",
     "output_type": "stream",
     "text": [
      "[[   1    0    5 ... 2397   -1    8]\n",
      " [   1    0   10 ... 2400   -1    8]\n",
      " [   1    0   21 ... 6072   -2    6]\n",
      " ...\n",
      " [1500 1499  194 ...   -1   -1    2]\n",
      " [1500 1499  203 ...   -1   -2    3]\n",
      " [1500 1499  204 ...   -1   -2    3]]\n"
     ]
    }
   ],
   "source": [
    "print(res_bfcl)"
   ]
  },
  {
   "cell_type": "code",
   "execution_count": 4,
   "metadata": {},
   "outputs": [
    {
     "data": {
      "text/plain": [
       "(227540, 13)"
      ]
     },
     "execution_count": 4,
     "metadata": {},
     "output_type": "execute_result"
    }
   ],
   "source": [
    "ya_bfcl.shape"
   ]
  },
  {
   "cell_type": "code",
   "execution_count": 5,
   "metadata": {},
   "outputs": [
    {
     "data": {
      "text/plain": [
       "(61509, 13)"
      ]
     },
     "execution_count": 5,
     "metadata": {},
     "output_type": "execute_result"
    }
   ],
   "source": [
    "res_bfcl.shape"
   ]
  },
  {
   "cell_type": "code",
   "execution_count": 6,
   "metadata": {},
   "outputs": [
    {
     "data": {
      "text/plain": [
       "(61509, 5)"
      ]
     },
     "execution_count": 6,
     "metadata": {},
     "output_type": "execute_result"
    }
   ],
   "source": [
    "ya_sig.shape"
   ]
  },
  {
   "cell_type": "code",
   "execution_count": null,
   "metadata": {},
   "outputs": [],
   "source": []
  },
  {
   "cell_type": "code",
   "execution_count": 2,
   "metadata": {},
   "outputs": [],
   "source": [
    "n_pols = 9\n",
    "path_dir = '/mnt/ML-drive/Artem/Carbon_test/'\n",
    "class_names_ft = [k for k in os.listdir(path_dir) if ('C60' in k or 'C100' in k)]\n",
    "#class_keys = ['C30keV','C60keV','C100keV','gamma/Cs137','gamma/Co60','fog']\n",
    "test_types = ['sig','bckg']\n",
    "id_header = ['HeaderID','ViewID','GrainID','pol0','pol1','pol2','pol3','pol4','pol5','pol6','pol7','tr_flag','n_pol']\n",
    "feat_names = ['x','y','z','lx','ly','phi','npx','vol','eps']\n",
    "\n",
    "feat_array = []\n",
    "for i in range(9):\n",
    "    feat_array += [n+str(i) for n in feat_names]\n",
    "feat_array += ['tr_flag','n_pol']"
   ]
  },
  {
   "cell_type": "code",
   "execution_count": 3,
   "metadata": {},
   "outputs": [
    {
     "data": {
      "text/plain": [
       "['C100keV_WithFilter_Blue_', 'C60keV_H_2018Oct04_WithFilter_Blue_']"
      ]
     },
     "execution_count": 3,
     "metadata": {},
     "output_type": "execute_result"
    }
   ],
   "source": [
    "class_names_ft"
   ]
  },
  {
   "cell_type": "code",
   "execution_count": 4,
   "metadata": {},
   "outputs": [],
   "source": [
    "def short_name(name):\n",
    "    if 'keV' in name: return 'Carbon/'+(name.split('_')[0])[1:]\n",
    "    return name"
   ]
  },
  {
   "cell_type": "code",
   "execution_count": 5,
   "metadata": {},
   "outputs": [
    {
     "data": {
      "text/plain": [
       "'c100'"
      ]
     },
     "execution_count": 5,
     "metadata": {},
     "output_type": "execute_result"
    }
   ],
   "source": [
    "class_names_ft[0].split('k')[0].lower()"
   ]
  },
  {
   "cell_type": "code",
   "execution_count": 6,
   "metadata": {},
   "outputs": [
    {
     "name": "stdout",
     "output_type": "stream",
     "text": [
      "CPU times: user 39.4 ms, sys: 7.99 ms, total: 47.4 ms\n",
      "Wall time: 46.1 ms\n"
     ]
    }
   ],
   "source": [
    "%%time\n",
    "pol_ids = {}\n",
    "for name in class_names_ft:\n",
    "    name_ = (name.split('k')[0]).lower()\n",
    "    for tt in test_types:\n",
    "        pol_ids[name_+'-'+tt] = pd.read_csv(path_dir+name+'/'+name_+'_'+tt+'_res_yandex.txt', header=None, names=id_header)\n",
    "        pol_ids[name_+'-'+tt] = pol_ids[name_+'-'+tt].sort_values(by=['HeaderID','GrainID'])"
   ]
  },
  {
   "cell_type": "code",
   "execution_count": 7,
   "metadata": {},
   "outputs": [
    {
     "data": {
      "text/html": [
       "<div>\n",
       "<style scoped>\n",
       "    .dataframe tbody tr th:only-of-type {\n",
       "        vertical-align: middle;\n",
       "    }\n",
       "\n",
       "    .dataframe tbody tr th {\n",
       "        vertical-align: top;\n",
       "    }\n",
       "\n",
       "    .dataframe thead th {\n",
       "        text-align: right;\n",
       "    }\n",
       "</style>\n",
       "<table border=\"1\" class=\"dataframe\">\n",
       "  <thead>\n",
       "    <tr style=\"text-align: right;\">\n",
       "      <th></th>\n",
       "      <th>HeaderID</th>\n",
       "      <th>ViewID</th>\n",
       "      <th>GrainID</th>\n",
       "      <th>pol0</th>\n",
       "      <th>pol1</th>\n",
       "      <th>pol2</th>\n",
       "      <th>pol3</th>\n",
       "      <th>pol4</th>\n",
       "      <th>pol5</th>\n",
       "      <th>pol6</th>\n",
       "      <th>pol7</th>\n",
       "      <th>tr_flag</th>\n",
       "      <th>n_pol</th>\n",
       "    </tr>\n",
       "  </thead>\n",
       "  <tbody>\n",
       "    <tr>\n",
       "      <th>0</th>\n",
       "      <td>1</td>\n",
       "      <td>0</td>\n",
       "      <td>26</td>\n",
       "      <td>-1</td>\n",
       "      <td>29</td>\n",
       "      <td>-1</td>\n",
       "      <td>45</td>\n",
       "      <td>55</td>\n",
       "      <td>70</td>\n",
       "      <td>86</td>\n",
       "      <td>122</td>\n",
       "      <td>-1</td>\n",
       "      <td>6</td>\n",
       "    </tr>\n",
       "    <tr>\n",
       "      <th>1</th>\n",
       "      <td>1</td>\n",
       "      <td>0</td>\n",
       "      <td>28</td>\n",
       "      <td>3037</td>\n",
       "      <td>3061</td>\n",
       "      <td>3086</td>\n",
       "      <td>3112</td>\n",
       "      <td>3138</td>\n",
       "      <td>3163</td>\n",
       "      <td>3183</td>\n",
       "      <td>3234</td>\n",
       "      <td>-1</td>\n",
       "      <td>8</td>\n",
       "    </tr>\n",
       "    <tr>\n",
       "      <th>2</th>\n",
       "      <td>1</td>\n",
       "      <td>0</td>\n",
       "      <td>34</td>\n",
       "      <td>323</td>\n",
       "      <td>493</td>\n",
       "      <td>645</td>\n",
       "      <td>785</td>\n",
       "      <td>917</td>\n",
       "      <td>1059</td>\n",
       "      <td>1205</td>\n",
       "      <td>1483</td>\n",
       "      <td>-1</td>\n",
       "      <td>8</td>\n",
       "    </tr>\n",
       "    <tr>\n",
       "      <th>3</th>\n",
       "      <td>1</td>\n",
       "      <td>0</td>\n",
       "      <td>42</td>\n",
       "      <td>-1</td>\n",
       "      <td>-1</td>\n",
       "      <td>-1</td>\n",
       "      <td>-1</td>\n",
       "      <td>923</td>\n",
       "      <td>1063</td>\n",
       "      <td>1209</td>\n",
       "      <td>-1</td>\n",
       "      <td>-1</td>\n",
       "      <td>3</td>\n",
       "    </tr>\n",
       "    <tr>\n",
       "      <th>4</th>\n",
       "      <td>1</td>\n",
       "      <td>0</td>\n",
       "      <td>47</td>\n",
       "      <td>319</td>\n",
       "      <td>489</td>\n",
       "      <td>641</td>\n",
       "      <td>783</td>\n",
       "      <td>914</td>\n",
       "      <td>1056</td>\n",
       "      <td>1200</td>\n",
       "      <td>1478</td>\n",
       "      <td>-1</td>\n",
       "      <td>8</td>\n",
       "    </tr>\n",
       "  </tbody>\n",
       "</table>\n",
       "</div>"
      ],
      "text/plain": [
       "   HeaderID  ViewID  GrainID  pol0  pol1  pol2  pol3  pol4  pol5  pol6  pol7  \\\n",
       "0         1       0       26    -1    29    -1    45    55    70    86   122   \n",
       "1         1       0       28  3037  3061  3086  3112  3138  3163  3183  3234   \n",
       "2         1       0       34   323   493   645   785   917  1059  1205  1483   \n",
       "3         1       0       42    -1    -1    -1    -1   923  1063  1209    -1   \n",
       "4         1       0       47   319   489   641   783   914  1056  1200  1478   \n",
       "\n",
       "   tr_flag  n_pol  \n",
       "0       -1      6  \n",
       "1       -1      8  \n",
       "2       -1      8  \n",
       "3       -1      3  \n",
       "4       -1      8  "
      ]
     },
     "execution_count": 7,
     "metadata": {},
     "output_type": "execute_result"
    }
   ],
   "source": [
    "pol_ids[name_+'-'+tt].head(5)"
   ]
  },
  {
   "cell_type": "code",
   "execution_count": null,
   "metadata": {},
   "outputs": [],
   "source": []
  },
  {
   "cell_type": "code",
   "execution_count": 9,
   "metadata": {},
   "outputs": [
    {
     "name": "stdout",
     "output_type": "stream",
     "text": [
      "Carbon/100keV-sig  with  5982  images\n",
      "loaded in  0:07:25.307145 \n",
      "\n",
      "Carbon/100keV-bckg  with  5850  images\n",
      "loaded in  0:07:02.219042 \n",
      "\n",
      "Carbon/60keV-sig  with  3911  images\n",
      "loaded in  0:04:46.820459 \n",
      "\n",
      "Carbon/60keV-bckg  with  5627  images\n",
      "loaded in  0:06:41.947188 \n",
      "\n",
      "total loading time: 0:25:56.434895\n",
      "CPU times: user 25min 28s, sys: 19.2 s, total: 25min 47s\n",
      "Wall time: 25min 56s\n"
     ]
    }
   ],
   "source": [
    "%%time\n",
    "ims_check = []\n",
    "ims = {}\n",
    "start = datetime.now()\n",
    "for name in class_names_ft:\n",
    "    name_ = (name.split('k')[0]).lower()\n",
    "    for tt in test_types:\n",
    "        fold = datetime.now()\n",
    "        ims[name_+'-'+tt] = load_pol_images(pol_ids[name_+'-'+tt], path_dir, name, csv_dir='csvs_'+tt, n_pol=9)\n",
    "        print(short_name(name)+'-'+tt,' with ',ims[name_+'-'+tt].shape[0],' images')\n",
    "        ims_check.append((ims[name_+'-'+tt][...,0]-ims[name_+'-'+tt][...,-1]).sum())\n",
    "        with h5py.File('data_9pol.h5','a') as dfile:\n",
    "            dfile.create_dataset(short_name(name)+'/'+tt+'/images', data=ims[name_+'-'+tt])\n",
    "        print('loaded in ',datetime.now()-fold,'\\n')\n",
    "        del ims[name_+'-'+tt]\n",
    "        gc.collect()\n",
    "print('total loading time:',datetime.now()-start)\n",
    "\n",
    "'load raw images'"
   ]
  },
  {
   "cell_type": "code",
   "execution_count": 10,
   "metadata": {},
   "outputs": [
    {
     "data": {
      "text/plain": [
       "[0, 0, 0, 0]"
      ]
     },
     "execution_count": 10,
     "metadata": {},
     "output_type": "execute_result"
    }
   ],
   "source": [
    "ims_check"
   ]
  },
  {
   "cell_type": "code",
   "execution_count": 11,
   "metadata": {},
   "outputs": [
    {
     "name": "stdout",
     "output_type": "stream",
     "text": [
      "loading features:   Carbon/100keV-sig\n",
      "\tin  0:03:49.613946 \n",
      "\n",
      "loading features:   Carbon/100keV-bckg\n",
      "\tin  0:03:41.772294 \n",
      "\n",
      "loading features:   Carbon/60keV-sig\n",
      "\tin  0:02:24.176151 \n",
      "\n",
      "loading features:   Carbon/60keV-bckg\n",
      "\tin  0:03:27.434858 \n",
      "\n",
      "total loading time: 0:13:23.135177\n",
      "CPU times: user 41min 23s, sys: 2.35 s, total: 41min 25s\n",
      "Wall time: 13min 23s\n"
     ]
    },
    {
     "name": "stderr",
     "output_type": "stream",
     "text": [
      "Warning in <TClass::Init>: no dictionary for class DMRViewHeader is available\n",
      "Warning in <TClass::Init>: no dictionary for class DMRAffine2D is available\n",
      "Warning in <TClass::Init>: no dictionary for class DMRCluster is available\n",
      "Warning in <TClass::Init>: no dictionary for class DMRGrain is available\n",
      "Warning in <TClass::Init>: no dictionary for class DMRMicrotrack is available\n",
      "Warning in <TClass::Init>: no dictionary for class DMRImageCl is available\n",
      "Warning in <TClass::Init>: no dictionary for class DMRImage is available\n",
      "Warning in <TClass::Init>: no dictionary for class DMRFrame is available\n"
     ]
    }
   ],
   "source": [
    "%%time\n",
    "start = datetime.now()\n",
    "feat_check = []\n",
    "feat_data = {}\n",
    "for name in class_names_ft:\n",
    "    name_ = (name.split('k')[0]).lower()\n",
    "    for tt in test_types:\n",
    "        fold = datetime.now()\n",
    "        print('loading features:  ',short_name(name)+'-'+tt)\n",
    "        feat_data[name_+'-'+tt] = get_pol_feat(pol_ids[name_+'-'+tt], n_pol=9, path_dir=path_dir, class_name=name, feat_names=feat_names)\n",
    "        feat_check.append((feat_data[name_+'-'+tt].values[:,:9]-feat_data[name_+'-'+tt].values[:,-11:-2]).sum(axis=0))\n",
    "        with h5py.File('data_9pol.h5', 'a') as datafile:\n",
    "            datafile.create_dataset(short_name(name)+'/'+tt+'/features', data=feat_data[name_+'-'+tt])\n",
    "        print('\\tin ',datetime.now()-fold,'\\n')\n",
    "        del feat_data[name_+'-'+tt]\n",
    "        gc.collect()\n",
    "print('total loading time:',datetime.now()-start)\n",
    "\n",
    "        \n",
    "'load features (paralellized automatically)'"
   ]
  },
  {
   "cell_type": "code",
   "execution_count": 12,
   "metadata": {},
   "outputs": [
    {
     "data": {
      "text/html": [
       "<div>\n",
       "<style scoped>\n",
       "    .dataframe tbody tr th:only-of-type {\n",
       "        vertical-align: middle;\n",
       "    }\n",
       "\n",
       "    .dataframe tbody tr th {\n",
       "        vertical-align: top;\n",
       "    }\n",
       "\n",
       "    .dataframe thead th {\n",
       "        text-align: right;\n",
       "    }\n",
       "</style>\n",
       "<table border=\"1\" class=\"dataframe\">\n",
       "  <thead>\n",
       "    <tr style=\"text-align: right;\">\n",
       "      <th></th>\n",
       "      <th>0</th>\n",
       "      <th>1</th>\n",
       "      <th>2</th>\n",
       "      <th>3</th>\n",
       "      <th>4</th>\n",
       "      <th>5</th>\n",
       "      <th>6</th>\n",
       "      <th>7</th>\n",
       "      <th>8</th>\n",
       "    </tr>\n",
       "  </thead>\n",
       "  <tbody>\n",
       "    <tr>\n",
       "      <th>0</th>\n",
       "      <td>0.0</td>\n",
       "      <td>0.0</td>\n",
       "      <td>0.0</td>\n",
       "      <td>NaN</td>\n",
       "      <td>0.0</td>\n",
       "      <td>0.0</td>\n",
       "      <td>0.0</td>\n",
       "      <td>0.0</td>\n",
       "      <td>NaN</td>\n",
       "    </tr>\n",
       "    <tr>\n",
       "      <th>1</th>\n",
       "      <td>0.0</td>\n",
       "      <td>0.0</td>\n",
       "      <td>0.0</td>\n",
       "      <td>NaN</td>\n",
       "      <td>0.0</td>\n",
       "      <td>0.0</td>\n",
       "      <td>0.0</td>\n",
       "      <td>0.0</td>\n",
       "      <td>NaN</td>\n",
       "    </tr>\n",
       "    <tr>\n",
       "      <th>2</th>\n",
       "      <td>0.0</td>\n",
       "      <td>0.0</td>\n",
       "      <td>0.0</td>\n",
       "      <td>0.0</td>\n",
       "      <td>0.0</td>\n",
       "      <td>0.0</td>\n",
       "      <td>0.0</td>\n",
       "      <td>0.0</td>\n",
       "      <td>0.0</td>\n",
       "    </tr>\n",
       "    <tr>\n",
       "      <th>3</th>\n",
       "      <td>0.0</td>\n",
       "      <td>0.0</td>\n",
       "      <td>0.0</td>\n",
       "      <td>0.0</td>\n",
       "      <td>0.0</td>\n",
       "      <td>0.0</td>\n",
       "      <td>0.0</td>\n",
       "      <td>0.0</td>\n",
       "      <td>0.0</td>\n",
       "    </tr>\n",
       "  </tbody>\n",
       "</table>\n",
       "</div>"
      ],
      "text/plain": [
       "     0    1    2    3    4    5    6    7    8\n",
       "0  0.0  0.0  0.0  NaN  0.0  0.0  0.0  0.0  NaN\n",
       "1  0.0  0.0  0.0  NaN  0.0  0.0  0.0  0.0  NaN\n",
       "2  0.0  0.0  0.0  0.0  0.0  0.0  0.0  0.0  0.0\n",
       "3  0.0  0.0  0.0  0.0  0.0  0.0  0.0  0.0  0.0"
      ]
     },
     "execution_count": 12,
     "metadata": {},
     "output_type": "execute_result"
    }
   ],
   "source": [
    "pd.DataFrame(data=np.array(feat_check))"
   ]
  },
  {
   "cell_type": "code",
   "execution_count": 13,
   "metadata": {},
   "outputs": [
    {
     "name": "stdout",
     "output_type": "stream",
     "text": [
      "['x', 'y', 'z', 'lx', 'ly', 'phi', 'npx', 'vol', 'eps']\n"
     ]
    }
   ],
   "source": [
    "print(feat_names)"
   ]
  },
  {
   "cell_type": "code",
   "execution_count": 14,
   "metadata": {},
   "outputs": [],
   "source": [
    "for name in class_names_ft:\n",
    "    name_ = (name.split('k')[0]).lower()\n",
    "    for tt in test_types:\n",
    "        with h5py.File('data_9pol.h5','a') as dfile:\n",
    "            dfile.create_dataset(short_name(name)+'/'+tt+'/pol_ids', data=pol_ids[name_+'-'+tt].values)\n",
    "_=gc.collect()"
   ]
  },
  {
   "cell_type": "code",
   "execution_count": null,
   "metadata": {},
   "outputs": [],
   "source": []
  },
  {
   "cell_type": "code",
   "execution_count": 21,
   "metadata": {},
   "outputs": [
    {
     "name": "stdout",
     "output_type": "stream",
     "text": [
      "['features', 'images', 'pol_ids']\n",
      "[   1    0    9  231  449  660  877 1114 1346   -1   -1   -2    6]\n",
      "['features', 'images', 'pol_ids']\n",
      "[   1    0    1 2467  457  667  887 1125 1354 3662 4068   -1    8]\n",
      "['features', 'images', 'pol_ids']\n",
      "[  1   0  26  -1  29  -1  45  55  70  86 122  -1   6]\n",
      "['features', 'images', 'pol_ids']\n",
      "[   1    0   12 2832 2852 2872 2893 2691 2711 2739 2788   -1    8]\n"
     ]
    }
   ],
   "source": [
    "with h5py.File('data_9pol.h5','r') as dfile:\n",
    "    for k in dfile['Carbon'].keys():\n",
    "        for t in dfile['Carbon/'+k].keys():\n",
    "            print(list(dfile['Carbon/'+k+'/'+t].keys()))\n",
    "            print(dfile['Carbon/'+k+'/'+t+'/pol_ids'][0])"
   ]
  },
  {
   "cell_type": "code",
   "execution_count": 27,
   "metadata": {},
   "outputs": [
    {
     "data": {
      "text/plain": [
       "['1', '1', '1', '1', '1', '0.7853981633974483']"
      ]
     },
     "execution_count": 27,
     "metadata": {},
     "output_type": "execute_result"
    }
   ],
   "source": [
    "[str(k) if (k-int(k)) else str(int(k)) for k in np.hstack((np.ones(5,dtype=int),np.ones(1)*np.pi/4))]"
   ]
  },
  {
   "cell_type": "code",
   "execution_count": null,
   "metadata": {},
   "outputs": [],
   "source": []
  }
 ],
 "metadata": {
  "kernelspec": {
   "display_name": "Python 3",
   "language": "python",
   "name": "python3"
  },
  "language_info": {
   "codemirror_mode": {
    "name": "ipython",
    "version": 3
   },
   "file_extension": ".py",
   "mimetype": "text/x-python",
   "name": "python",
   "nbconvert_exporter": "python",
   "pygments_lexer": "ipython3",
   "version": "3.6.7"
  }
 },
 "nbformat": 4,
 "nbformat_minor": 2
}
