{
 "cells": [
  {
   "cell_type": "code",
   "execution_count": 1,
   "metadata": {},
   "outputs": [
    {
     "name": "stderr",
     "output_type": "stream",
     "text": [
      "Using TensorFlow backend.\n"
     ]
    }
   ],
   "source": [
    "import numpy as np\n",
    "import pandas as pd\n",
    "from datetime import datetime\n",
    "import os, re, gc\n",
    "import h5py\n",
    "import matplotlib.pyplot as plt\n",
    "from sklearn.metrics import roc_auc_score\n",
    "\n",
    "from cnn_utils import *\n",
    "\n",
    "import keras\n",
    "from keras.layers import Input, Dense, Activation, ZeroPadding2D, BatchNormalization, Flatten, Conv2D, MaxPooling2D, Dropout\n",
    "from keras.layers import ZeroPadding3D, Conv3D, MaxPooling3D, Concatenate, Add\n",
    "from keras import optimizers\n",
    "from keras.models import Model, load_model\n",
    "from keras.constraints import MaxNorm\n",
    "\n",
    "import tensorflow as tf\n",
    "import keras.backend as K\n",
    "K.set_image_data_format('channels_last')"
   ]
  },
  {
   "cell_type": "code",
   "execution_count": 2,
   "metadata": {},
   "outputs": [],
   "source": [
    "from tensorflow.python.client import device_lib\n",
    "# TensorFlow wizardry\n",
    "config = tf.ConfigProto() \n",
    "# Don't pre-allocate memory; allocate as-needed\n",
    "config.gpu_options.allow_growth = True \n",
    "# Only allow a total of half the GPU memory to be allocated\n",
    "#config.gpu_options.per_process_gpu_memory_fraction = 0.5 \n",
    "# Create a session with the above options specified.\n",
    "K.tensorflow_backend.set_session(tf.Session(config=config))\n",
    "\n",
    "tf.logging.set_verbosity(tf.logging.ERROR)"
   ]
  },
  {
   "cell_type": "code",
   "execution_count": 3,
   "metadata": {},
   "outputs": [
    {
     "name": "stdout",
     "output_type": "stream",
     "text": [
      "[name: \"/device:CPU:0\"\n",
      "device_type: \"CPU\"\n",
      "memory_limit: 268435456\n",
      "locality {\n",
      "}\n",
      "incarnation: 383858726456910684\n",
      ", name: \"/device:GPU:0\"\n",
      "device_type: \"GPU\"\n",
      "memory_limit: 2495086592\n",
      "locality {\n",
      "  bus_id: 1\n",
      "  links {\n",
      "  }\n",
      "}\n",
      "incarnation: 16164221106262510951\n",
      "physical_device_desc: \"device: 0, name: GeForce GTX 780, pci bus id: 0000:03:00.0, compute capability: 3.5\"\n",
      "]\n"
     ]
    }
   ],
   "source": [
    "print(device_lib.list_local_devices())"
   ]
  },
  {
   "cell_type": "code",
   "execution_count": 4,
   "metadata": {},
   "outputs": [
    {
     "name": "stdout",
     "output_type": "stream",
     "text": [
      "X_train shape:\t(236603, 32, 32, 8, 1)\n",
      "y_train shape:\t(236603,)\n",
      "X_test shape:\t(41754, 32, 32, 8, 1)\n",
      "y_test shape:\t(41754,)\n"
     ]
    }
   ],
   "source": [
    "X_train, y_train, X_test, y_test = load_data(sig_n='C100keV', path_h5 = \"/home/scanner-ml/Artem/Python/NEWS/data/\")"
   ]
  },
  {
   "cell_type": "code",
   "execution_count": 5,
   "metadata": {},
   "outputs": [
    {
     "data": {
      "text/plain": [
       "<matplotlib.image.AxesImage at 0x7f6a301d2e10>"
      ]
     },
     "execution_count": 5,
     "metadata": {},
     "output_type": "execute_result"
    },
    {
     "data": {
      "image/png": "[encoded data removed]",
      "text/plain": [
       "<Figure size 432x288 with 1 Axes>"
      ]
     },
     "metadata": {
      "needs_background": "light"
     },
     "output_type": "display_data"
    }
   ],
   "source": [
    "plt.imshow(X_train[170000,...,4,0])"
   ]
  },
  {
   "cell_type": "code",
   "execution_count": null,
   "metadata": {},
   "outputs": [],
   "source": []
  },
  {
   "cell_type": "code",
   "execution_count": 6,
   "metadata": {},
   "outputs": [
    {
     "name": "stdout",
     "output_type": "stream",
     "text": [
      "conv1\t (?, 16, 16, 4, 64)\n",
      "conv2\t (?, 8, 8, 2, 256)\n",
      "conv3\t (?, 2, 2, 1, 512)\n"
     ]
    }
   ],
   "source": [
    "\n",
    "def identity_block(X, f, filters, stage, block):\n",
    "    \"\"\"    \n",
    "    Arguments:\n",
    "    X -- input tensor of shape (m, n_H_prev, n_W_prev, n_D_prev, n_C_prev)\n",
    "    f -- integer, specifying the shape of the middle CONV's window for the main path\n",
    "    filters -- python list of integers, defining the number of filters in the CONV layers of the main path\n",
    "    stage -- integer, used to name the layers, depending on their position in the network\n",
    "    block -- string/character, used to name the layers, depending on their position in the network\n",
    "    \n",
    "    Returns:\n",
    "    X -- output of the identity block, tensor of shape (n_H, n_W, n_D, n_C)\n",
    "    \"\"\"\n",
    "    \n",
    "    # defining name basis\n",
    "    conv_name_base = 'res' + str(stage) + block + '_branch'\n",
    "    bn_name_base = 'bn' + str(stage) + block + '_branch'\n",
    "    \n",
    "    # Retrieve Filters\n",
    "    F1, F2, F3 = filters\n",
    "    \n",
    "    # Save the input value. You'll need this later to add back to the main path. \n",
    "    X_shortcut = X\n",
    "    \n",
    "    # First component of main path\n",
    "    X = Conv3D(filters = F1, kernel_size = 1, strides = 1, padding = 'valid', kernel_constraint=MaxNorm(4., axis=[0,1,2,3]), name = conv_name_base + '2a')(X)\n",
    "    X = BatchNormalization(axis = -1, name = bn_name_base + '2a')(X)\n",
    "    X = Activation('relu')(X)\n",
    "    \n",
    "    # Second component of main path (≈3 lines)\n",
    "    X = Conv3D(filters=F2, kernel_size= f, padding='same', kernel_constraint=MaxNorm(4., axis=[0,1,2,3]), name= conv_name_base+'2b')(X)\n",
    "    X = BatchNormalization(axis=3, name= bn_name_base+'2b')(X)\n",
    "    X = Activation('relu')(X)\n",
    "\n",
    "    # Third component of main path (≈2 lines)\n",
    "    X = Conv3D(filters=F3, kernel_size=1, padding='valid', kernel_constraint=MaxNorm(4., axis=[0,1,2,3]), name=conv_name_base+'2c')(X)\n",
    "    X = BatchNormalization(axis=-1, name=bn_name_base+'2c')(X)\n",
    "\n",
    "    # Final step: Add shortcut value to main path, and pass it through a RELU activation (≈2 lines)\n",
    "    X = Add()([X, X_shortcut])#X+X_shortcut\n",
    "    X = Activation('relu')(X)\n",
    "    \n",
    "    return X\n",
    "\n",
    "def convolutional_block(X, f, filters, stage, block, s = 2):\n",
    "    \"\"\"\n",
    "    Arguments:\n",
    "    X -- input tensor of shape (m, n_H_prev, n_W_prev, n_D_prev, n_C_prev)\n",
    "    f -- integer, specifying the shape of the middle CONV's window for the main path\n",
    "    filters -- python list of integers, defining the number of filters in the CONV layers of the main path\n",
    "    stage -- integer, used to name the layers, depending on their position in the network\n",
    "    block -- string/character, used to name the layers, depending on their position in the network\n",
    "    s -- Integer, specifying the stride to be used\n",
    "    \n",
    "    Returns:\n",
    "    X -- output of the convolutional block, tensor of shape (n_H, n_W, n_D, n_C)\n",
    "    \"\"\"\n",
    "    \n",
    "    # defining name basis\n",
    "    conv_name_base = 'res' + str(stage) + block + '_branch'\n",
    "    bn_name_base = 'bn' + str(stage) + block + '_branch'\n",
    "    \n",
    "    # Retrieve Filters\n",
    "    F1, F2, F3 = filters\n",
    "    \n",
    "    # Save the input value\n",
    "    X_shortcut = X\n",
    "\n",
    "\n",
    "    ##### MAIN PATH #####\n",
    "    # First component of main path \n",
    "    X = Conv3D(F1, 1, strides = s, kernel_constraint=MaxNorm(4., axis=[0,1,2,3]), name = conv_name_base + '2a')(X)\n",
    "    X = BatchNormalization(axis = -1, name = bn_name_base + '2a')(X)\n",
    "    X = Activation('relu')(X)\n",
    "    \n",
    "    # Second component of main path (≈3 lines)\n",
    "    X = Conv3D(F2, f, kernel_constraint=MaxNorm(4., axis=[0,1,2,3]), padding='same', name=conv_name_base+'2b')(X)\n",
    "    X = BatchNormalization(axis=-1, name=bn_name_base+'2b')(X)\n",
    "    X = Activation('relu')(X)\n",
    "\n",
    "    # Third component of main path (≈2 lines)\n",
    "    X = Conv3D(F3, 1, kernel_constraint=MaxNorm(4., axis=[0,1,2,3]), name=conv_name_base+'2c')(X)\n",
    "    X = BatchNormalization(axis=-1, name=bn_name_base+'2c')(X)\n",
    "\n",
    "    ##### SHORTCUT PATH #### (≈2 lines)\n",
    "    X_shortcut = Conv3D(F3, 1, strides=s, kernel_constraint=MaxNorm(4., axis=[0,1,2,3]), name=conv_name_base+'1')(X_shortcut)\n",
    "    X_shortcut = BatchNormalization(axis=-1, name=bn_name_base+'1')(X_shortcut)\n",
    "\n",
    "    # Final step: Add shortcut value to main path, and pass it through a RELU activation (≈2 lines)\n",
    "    X = Add()([X, X_shortcut]) #X+X_shortcut\n",
    "    X = Activation('relu')(X)\n",
    "    \n",
    "    X = Dropout(rate=0.4, name='drop'+str(stage)+block)(X)\n",
    "    \n",
    "    return X\n",
    "\n",
    "def conv_res_3d_model(input_shape=(32,32,8,1)):\n",
    "    \n",
    "    X_input = Input(input_shape)\n",
    "\n",
    "    X = Conv3D(64, 3, padding='same', kernel_constraint=MaxNorm(4., axis=[0,1,2,3]), activation='relu', name='conv1_1')(X_input)\n",
    "    X = Conv3D(64, 3, padding='same', kernel_constraint=MaxNorm(4., axis=[0,1,2,3]), activation='relu', name='conv1_2')(X)\n",
    "    X = MaxPooling3D(name='pool1')(X)\n",
    "    print('conv1\\t',X.get_shape())\n",
    "    \n",
    "    #X = Dropout(rate=0.3, name='drop_start')(X)\n",
    "    \n",
    "    X = convolutional_block(X, f = 3, filters = [64, 64, 256], stage = 2, block='a')\n",
    "    X = identity_block(X, 3, [64, 64, 256], stage=2, block='b')\n",
    "    X = identity_block(X, 3, [64, 64, 256], stage=2, block='c')\n",
    "    print('conv2\\t',X.get_shape())\n",
    "    \n",
    "    X = Dropout(rate=0.7, name='drop_middle')(X)\n",
    "    \n",
    "    X = convolutional_block(X, f = 3, filters = [128,128, 512], stage = 3, block='a')\n",
    "    X = identity_block(X, 3, [128,128, 512], stage=3, block='b')\n",
    "    X = identity_block(X, 3, [128,128, 512], stage=3, block='c')\n",
    "    X = MaxPooling3D(padding='same', name='pool3')(X)\n",
    "    print('conv3\\t',X.get_shape())\n",
    "    \n",
    "    X = Dropout(rate=0.7, name='drop')(X)\n",
    "    \n",
    "    X = Flatten()(X)\n",
    "    X = Dense(1, activation='sigmoid', name='class')(X)\n",
    "    \n",
    "    return Model(inputs = X_input, outputs = X, name='conv_res_model')\n",
    "\n",
    "conv4_3d_res = conv_res_3d_model(input_shape=X_train.shape[1:])\n",
    "conv4_3d_res.load_weights('networks/conv4_3d_res_v1_e150.h5', by_name=True)\n",
    "\n",
    "adamka = optimizers.Adam(lr=3e-5, decay=1e-3, beta_1=0.95)\n",
    "conv4_3d_res.compile(optimizer=adamka, loss='binary_crossentropy')\n",
    "\n",
    "\n",
    "#conv4_3d_res = load_model('networks/conv4_3d_res_v0.h5')"
   ]
  },
  {
   "cell_type": "code",
   "execution_count": 7,
   "metadata": {},
   "outputs": [
    {
     "name": "stdout",
     "output_type": "stream",
     "text": [
      "Train on 212942 samples, validate on 23661 samples\n",
      "Epoch 1/1\n",
      "212864/212942 [============================>.] - ETA: 0s - loss: 0.0574\n",
      " 0 \troc_auc: 0.9938236112661325 \n",
      "\n",
      "212942/212942 [==============================] - 1214s - loss: 0.0574 - val_loss: 0.2933\n"
     ]
    }
   ],
   "source": [
    "#hist_roc = call_roc_hist()\n",
    "#hist = conv4_3d_res.fit(x=X_train, y=y_train, batch_size=128, epochs=10, validation_split=0.1, callbacks=[hist_roc])\n",
    "reducer = keras.callbacks.ReduceLROnPlateau(monitor='loss', factor=0.5, patience=3, verbose=1, epsilon=0.0015, min_lr=1e-9)\n",
    "hist_roc = call_roc_hist()\n",
    "hist = conv4_3d_res.fit(x=X_train, y=y_train, batch_size=128, epochs=1, validation_split=0.1, callbacks=[hist_roc, reducer])"
   ]
  },
  {
   "cell_type": "code",
   "execution_count": 8,
   "metadata": {},
   "outputs": [
    {
     "name": "stdout",
     "output_type": "stream",
     "text": [
      "41754/41754 [==============================] - 62s    \n",
      "roc_auc:\t 0.99315\n"
     ]
    }
   ],
   "source": [
    "preds = conv4_3d_res.predict(X_test,batch_size=64, verbose=1)\n",
    "print('roc_auc:\\t',round(roc_auc_score(y_test, preds), 5))"
   ]
  },
  {
   "cell_type": "code",
   "execution_count": null,
   "metadata": {},
   "outputs": [],
   "source": []
  },
  {
   "cell_type": "code",
   "execution_count": 9,
   "metadata": {},
   "outputs": [],
   "source": [
    "#Saving the model, short description of training and the outputs\n",
    "_ = '''conv4_3d_res.save('networks/conv4_3d_res_v1_e150.h5')\n",
    "with open('networks/notes_conv4_3d_res.txt','a') as ftxt:\n",
    "    ftxt.write('\\nv1:\\t Epoch 125-150, -//-, signal C60 instead of C100')\n",
    "np.savetxt('outputs/conv4_3d_res/v1_roc-auc_150.txt', hist_roc_150.val_aucs)\n",
    "np.savetxt('outputs/conv4_3d_res/v1_loss_train_150.txt', hist_150.history['loss'])\n",
    "np.savetxt('outputs/conv4_3d_res/v1_loss_val_150.txt', hist_150.history['val_loss'])'''"
   ]
  },
  {
   "cell_type": "code",
   "execution_count": null,
   "metadata": {},
   "outputs": [],
   "source": []
  },
  {
   "cell_type": "code",
   "execution_count": null,
   "metadata": {},
   "outputs": [],
   "source": []
  },
  {
   "cell_type": "code",
   "execution_count": null,
   "metadata": {},
   "outputs": [],
   "source": []
  }
 ],
 "metadata": {
  "kernelspec": {
   "display_name": "Python 3",
   "language": "python",
   "name": "python3"
  },
  "language_info": {
   "codemirror_mode": {
    "name": "ipython",
    "version": 3
   },
   "file_extension": ".py",
   "mimetype": "text/x-python",
   "name": "python",
   "nbconvert_exporter": "python",
   "pygments_lexer": "ipython3",
   "version": "3.6.6"
  }
 },
 "nbformat": 4,
 "nbformat_minor": 2
}
