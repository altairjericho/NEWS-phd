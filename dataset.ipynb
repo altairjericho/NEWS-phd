{
 "cells": [
  {
   "cell_type": "code",
   "execution_count": 1,
   "metadata": {},
   "outputs": [],
   "source": [
    "import numpy as np\n",
    "import os\n",
    "import shutil\n",
    "import re\n",
    "import numpy as np\n",
    "import pandas as pd\n",
    "from sklearn.model_selection import train_test_split\n",
    "import h5py\n",
    "import matplotlib.pyplot as plt\n",
    "import gc\n",
    "\n",
    "%matplotlib inline"
   ]
  },
  {
   "cell_type": "code",
   "execution_count": 2,
   "metadata": {},
   "outputs": [],
   "source": [
    "copa = np.array([np.zeros((3,3)),np.ones((3,3))]).T"
   ]
  },
  {
   "cell_type": "code",
   "execution_count": 3,
   "metadata": {},
   "outputs": [
    {
     "data": {
      "text/plain": [
       "array([[1., 1., 1.],\n",
       "       [1., 1., 1.],\n",
       "       [1., 1., 1.]])"
      ]
     },
     "execution_count": 3,
     "metadata": {},
     "output_type": "execute_result"
    }
   ],
   "source": [
    "copa[...,1]"
   ]
  },
  {
   "cell_type": "code",
   "execution_count": 4,
   "metadata": {},
   "outputs": [],
   "source": [
    "def load_images(path, name_dir='C30keV', n_pols=8):\n",
    "    \"\"\"\n",
    "    Loads images into numpy array of shape (N,h,w,n_pols)\n",
    "    \n",
    "    Arguments:\n",
    "    path -- path to the directory with images\n",
    "    name_dir -- name of the particular directory with signal or bckg samples\n",
    "    n_pols -- number of polarizations (channels) of each image\n",
    "    \n",
    "    Returns:\n",
    "    images -- numpy array with N images of shape (h,w) with n_pols channels\n",
    "    \"\"\"\n",
    "\n",
    "    img_ind = []\n",
    "    path = path+name_dir+\"/csvs/\"\n",
    "    img_names = os.listdir(path)\n",
    "    for name in img_names:\n",
    "        img_ind.append(list(filter(None, re.split('[_.^a-z]',name))))\n",
    "    img_ind = pd.DataFrame(np.array(img_ind), columns=['HeaderID','GrainID','ClusterID','Pol'])\n",
    "    img_ind = img_ind.sort_values(by=['HeaderID','GrainID','Pol'])\n",
    "    for hd in np.unique(img_ind['HeaderID']):\n",
    "        hd_imgs = img_ind[ img_ind['HeaderID']==hd ]\n",
    "        for grain in np.unique(hd_imgs['GrainID']):\n",
    "            grain_imgs = hd_imgs[ hd_imgs['GrainID']==grain ]\n",
    "            if grain_imgs.shape[0]!=n_pols:\n",
    "                img_ind = img_ind.drop(grain_imgs.index)\n",
    "    img_names = []\n",
    "    for name in img_ind.values:\n",
    "        img_names.append(name[0]+'_gr'+name[1]+'_cl'+name[2]+'_pol'+name[3]+'.csv')\n",
    "    \n",
    "    gc.collect()\n",
    "    i=0\n",
    "    im_array = []\n",
    "    for name in img_names:\n",
    "        if i==0:\n",
    "            tmp_im = []\n",
    "            tmp_im.append(pd.read_csv(path+name, header=None).drop(32, axis=1).values)\n",
    "        else: tmp_im.append(pd.read_csv(path+name, header=None).drop([0,33], axis=1).drop(32,axis=0).values)\n",
    "        i+=1\n",
    "        if i==n_pols:\n",
    "            im_array.append(np.array(tmp_im, dtype=np.uint8).T)\n",
    "            i=0\n",
    "            gc.collect()\n",
    "    return np.array(im_array)"
   ]
  },
  {
   "cell_type": "code",
   "execution_count": 6,
   "metadata": {},
   "outputs": [],
   "source": [
    "def clean_zero_images(data, bad = None, class_name='C100keV'):\n",
    "    \"\"\"\n",
    "    Removes images (or any entries) mentioned as 'bad', or containing zero pixels (if 'bad' is not specified)\n",
    "    \n",
    "    Arguments:\n",
    "    data -- NumPy array with data to be cleaned\n",
    "    bad -- list of indices to be removed. If None - images containing zero pixels are removed\n",
    "    class_name -- str, name of the data used for saving the 'bad' list, if 'bad' is not specified\n",
    "    \n",
    "    Returns:\n",
    "    data -- NumPy array with 'bad' items removed\n",
    "    \"\"\"\n",
    "    if bad is None:\n",
    "        bad = []\n",
    "        for i in np.arange(data.shape[0]):\n",
    "            if not data[i].all():\n",
    "                bad.append(i)\n",
    "        np.savetxt('bad_edge_'+class_name+'.txt',bad,fmt='%d')\n",
    "        print(class_name+' bad samples: ',len(bad))\n",
    "    mask = np.ones(data.shape[0],dtype=bool)\n",
    "    \n",
    "    mask[bad] = False\n",
    "    return data[mask,...]"
   ]
  },
  {
   "cell_type": "code",
   "execution_count": 7,
   "metadata": {},
   "outputs": [],
   "source": [
    "path = \"/home/scanner-ml/Artem/\"\n",
    "class_names = ['C30keV','C60keV','gamma']\n",
    "n_pols = 8"
   ]
  },
  {
   "cell_type": "code",
   "execution_count": 8,
   "metadata": {},
   "outputs": [
    {
     "data": {
      "text/plain": [
       "'datasamples'"
      ]
     },
     "execution_count": 8,
     "metadata": {},
     "output_type": "execute_result"
    }
   ],
   "source": [
    "'''\n",
    "%%time\n",
    "C30 = load_images(path, 'C30keV')\n",
    "C30 = clean_zero_images(C30, class_name='C30keV')\n",
    "gc.collect()\n",
    "C60 = load_images(path, 'C60keV')\n",
    "C60 = clean_zero_images(C60, class_name='C60keV')\n",
    "gc.collect()\n",
    "C100 = load_images(path, 'C100keV/C1')\n",
    "C100 = clean_zero_images(C100, class_name='C100keV')\n",
    "gc.collect()\n",
    "C100_2 = load_images(path, 'C100keV/C2')\n",
    "C100_2 = clean_zero_images(C100_2, class_name='C100keV')\n",
    "gc.collect()\n",
    "gamma = load_images(path, 'gamma')\n",
    "gamma = clean_zero_images(gamma, class_name='gamma')\n",
    "gc.collect()\n",
    "\n",
    "#if os.path.isfile('samples.h5'):\n",
    "#    os.remove('samples.h5')\n",
    "\n",
    "with h5py.File('samples.h5','a') as datafile:\n",
    "    datafile.create_dataset('C30keV', data=C30)\n",
    "    datafile.create_dataset('C60keV', data=C60)\n",
    "    datafile.create_dataset('C100keV', data=np.vstack((C100,C100_2)))\n",
    "    datafile.create_dataset('gamma', data=gamma)\n",
    "    \n",
    "print('gamma samples: ',gamma.shape, '\\t', getsizeof(gamma)//1024**2, 'Mb')\n",
    "print('C100keV_1 samples: ',C100.shape, '\\t', getsizeof(C100)//1024**2, 'Mb')\n",
    "print('C100keV_2 samples: ',C100_2.shape, '\\t', getsizeof(C100_2)//1024**2, 'Mb')\n",
    "print('C60keV samples: ',C60.shape, '\\t', getsizeof(C60)//1024**2, 'Mb')\n",
    "print('C30keV samples: ',C30.shape, '\\t', getsizeof(C30)//1024**2, 'Mb')\n",
    "'''\n",
    "'datasamples'"
   ]
  },
  {
   "cell_type": "code",
   "execution_count": 15,
   "metadata": {},
   "outputs": [
    {
     "data": {
      "text/plain": [
       "'train_test_split'"
      ]
     },
     "execution_count": 15,
     "metadata": {},
     "output_type": "execute_result"
    }
   ],
   "source": [
    "'''\n",
    "%%time\n",
    "if os.path.isfile('dataset.h5'):\n",
    "    os.remove('dataset.h5')\n",
    "with h5py.File('dataset.h5','a') as datafile:\n",
    "    with h5py.File('samples.h5','r') as sampfile:\n",
    "        for k in sampfile.keys():\n",
    "            datas = sampfile[k][...]\n",
    "            train, test = train_test_split(datas, test_size=0.15)\n",
    "            datafile.create_dataset(k+'/train', data=train)\n",
    "            datafile.create_dataset(k+'/test', data=test)\n",
    "            gc.collect()\n",
    "    print(list(datafile.keys()))\n",
    "'''\n",
    "'train_test_split'"
   ]
  },
  {
   "cell_type": "code",
   "execution_count": 14,
   "metadata": {},
   "outputs": [
    {
     "name": "stdout",
     "output_type": "stream",
     "text": [
      "C100keV/test\t (22425, 32, 32, 8)\n",
      "C100keV/train\t (127075, 32, 32, 8)\n",
      "C30keV/test\t (17493, 32, 32, 8)\n",
      "C30keV/train\t (99125, 32, 32, 8)\n",
      "C60keV/test\t (18670, 32, 32, 8)\n",
      "C60keV/train\t (105795, 32, 32, 8)\n",
      "gamma/test\t (19329, 32, 32, 8)\n",
      "gamma/train\t (109528, 32, 32, 8)\n"
     ]
    }
   ],
   "source": [
    "with h5py.File('dataset.h5','r') as datafile:\n",
    "    for k in datafile.keys():\n",
    "        for p in datafile[k].keys():\n",
    "            print(k+'/'+p+'\\t', datafile[k+'/'+p].shape)"
   ]
  },
  {
   "cell_type": "code",
   "execution_count": null,
   "metadata": {},
   "outputs": [],
   "source": []
  },
  {
   "cell_type": "code",
   "execution_count": null,
   "metadata": {},
   "outputs": [],
   "source": []
  },
  {
   "cell_type": "code",
   "execution_count": null,
   "metadata": {},
   "outputs": [],
   "source": []
  },
  {
   "cell_type": "code",
   "execution_count": 86,
   "metadata": {},
   "outputs": [
    {
     "data": {
      "text/plain": [
       "<matplotlib.image.AxesImage at 0x7f018ddef470>"
      ]
     },
     "execution_count": 86,
     "metadata": {},
     "output_type": "execute_result"
    },
    {
     "data": {
      "image/png": "[encoded data removed]",
      "text/plain": [
       "<matplotlib.figure.Figure at 0x7f018f631cc0>"
      ]
     },
     "metadata": {},
     "output_type": "display_data"
    }
   ],
   "source": [
    "#example of bad image\n",
    "plt.figure(figsize=(7,7))\n",
    "plt.imshow(X[191,...,0])"
   ]
  }
 ],
 "metadata": {
  "kernelspec": {
   "display_name": "Python 3",
   "language": "python",
   "name": "python3"
  },
  "language_info": {
   "codemirror_mode": {
    "name": "ipython",
    "version": 3
   },
   "file_extension": ".py",
   "mimetype": "text/x-python",
   "name": "python",
   "nbconvert_exporter": "python",
   "pygments_lexer": "ipython3",
   "version": "3.6.6"
  }
 },
 "nbformat": 4,
 "nbformat_minor": 2
}
