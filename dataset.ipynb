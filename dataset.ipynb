{
 "cells": [
  {
   "cell_type": "code",
   "execution_count": 1,
   "metadata": {},
   "outputs": [
    {
     "name": "stdout",
     "output_type": "stream",
     "text": [
      "Welcome to JupyROOT 6.14/04\n"
     ]
    }
   ],
   "source": [
    "import ROOT\n",
    "import os, re, gc, h5py\n",
    "import numpy as np\n",
    "import pandas as pd\n",
    "from sklearn.model_selection import train_test_split\n",
    "import matplotlib.pyplot as plt\n",
    "from datetime import datetime\n",
    "from data_utils import *"
   ]
  },
  {
   "cell_type": "code",
   "execution_count": 2,
   "metadata": {},
   "outputs": [],
   "source": [
    "copa = np.array([np.zeros((3,3)),np.ones((3,3))]).T"
   ]
  },
  {
   "cell_type": "code",
   "execution_count": 3,
   "metadata": {},
   "outputs": [
    {
     "data": {
      "text/plain": [
       "array([[1., 1., 1.],\n",
       "       [1., 1., 1.],\n",
       "       [1., 1., 1.]])"
      ]
     },
     "execution_count": 3,
     "metadata": {},
     "output_type": "execute_result"
    }
   ],
   "source": [
    "copa[...,1]"
   ]
  },
  {
   "cell_type": "code",
   "execution_count": 4,
   "metadata": {},
   "outputs": [],
   "source": [
    "n_pols = 9\n",
    "path_dir = '/mnt/ML-drive/Artem/'\n",
    "class_names_ft = ['C30keV','C60keV']\n",
    "class_keys = ['C30keV','C60keV','C100keV','gamma/Cs137','gamma/Co60','fog']\n",
    "id_header = ['HeaderID','ViewID','GrainID','pol0','pol1','pol2','pol3','pol4','pol5','pol6','pol7','tr_flag','n_pol']\n",
    "feat_names = ['x','y','z','lx','ly','phi','npx','vol','eps']\n",
    "\n",
    "feat_array = []\n",
    "for i in range(9):\n",
    "    feat_array += [n+str(i) for n in feat_names]\n",
    "feat_array += ['tr_flag','n_pol']"
   ]
  },
  {
   "cell_type": "code",
   "execution_count": 5,
   "metadata": {},
   "outputs": [],
   "source": [
    "class_names_ft += ['C100keV/'+i for i in os.listdir(path_dir+'C100keV')] + ['fog/'+i for i in os.listdir(path_dir+'fog')] + ['gamma/Cs137/'+i for i in os.listdir(path_dir+'gamma/Cs137')] + ['gamma/Co60/'+i for i in os.listdir(path_dir+'gamma/Co60')]"
   ]
  },
  {
   "cell_type": "code",
   "execution_count": 6,
   "metadata": {},
   "outputs": [
    {
     "data": {
      "text/plain": [
       "['C30keV',\n",
       " 'C60keV',\n",
       " 'C100keV/C2',\n",
       " 'C100keV/C1',\n",
       " 'fog/Scan2_Y-4800_1line101views_Re_numofImg200',\n",
       " 'fog/Scan9_Y-3500_5line505view_numofImage227with9pol',\n",
       " 'fog/Scan11_Y-2900_6line606view_numofImage227with9pol',\n",
       " 'fog/Scan8_Y-3800_4line404view_numofImage227with9pol',\n",
       " 'fog/Scan7_Y-4000_4line404view_numofImage227with9pol',\n",
       " 'fog/Scan3_Y-4700_1line101views_Re_numofImg200',\n",
       " 'fog/Scan6_Y-4200_4line404view_numofImage227with9pol',\n",
       " 'fog/Scan4_Y-4600_2line202view_numofImage227with9pol',\n",
       " 'gamma/Cs137/400views_2ndrun',\n",
       " 'gamma/Cs137/400views',\n",
       " 'gamma/Co60/400views_2ndrun',\n",
       " 'gamma/Co60/400views']"
      ]
     },
     "execution_count": 6,
     "metadata": {},
     "output_type": "execute_result"
    }
   ],
   "source": [
    "class_names_ft"
   ]
  },
  {
   "cell_type": "code",
   "execution_count": 7,
   "metadata": {},
   "outputs": [],
   "source": [
    "class_names_C = ['C30keV','C60keV','C100keV/C1','C100keV/C2']"
   ]
  },
  {
   "cell_type": "code",
   "execution_count": 8,
   "metadata": {},
   "outputs": [],
   "source": [
    "def short_name(name):\n",
    "    if 'fog' in name: return name.split('_')[0]\n",
    "    if 'gamma' in name: return name.split('_')[0]+'_'+('2' if '2' in name else '1')\n",
    "    if 'keV' in name: return 'Carbon/'+name[1:]\n",
    "    return name"
   ]
  },
  {
   "cell_type": "code",
   "execution_count": 9,
   "metadata": {},
   "outputs": [
    {
     "data": {
      "text/plain": [
       "'Carbon/100keV/C2'"
      ]
     },
     "execution_count": 9,
     "metadata": {},
     "output_type": "execute_result"
    }
   ],
   "source": [
    "short_name(class_names_C[-1])"
   ]
  },
  {
   "cell_type": "code",
   "execution_count": null,
   "metadata": {},
   "outputs": [],
   "source": []
  },
  {
   "cell_type": "code",
   "execution_count": 8,
   "metadata": {},
   "outputs": [
    {
     "name": "stdout",
     "output_type": "stream",
     "text": [
      "CPU times: user 1.13 s, sys: 110 ms, total: 1.24 s\n",
      "Wall time: 1.69 s\n"
     ]
    }
   ],
   "source": [
    "%%time\n",
    "pol_ids = {}\n",
    "for name in class_names_ft:\n",
    "    pol_ids[name] = pd.read_csv(path_dir+name+'/yandex_bfcl.txt', header=None, names=id_header)\n",
    "    pol_ids[name] = pol_ids[name].sort_values(by=['HeaderID','GrainID'])"
   ]
  },
  {
   "cell_type": "code",
   "execution_count": 9,
   "metadata": {},
   "outputs": [
    {
     "data": {
      "text/html": [
       "<div>\n",
       "<style scoped>\n",
       "    .dataframe tbody tr th:only-of-type {\n",
       "        vertical-align: middle;\n",
       "    }\n",
       "\n",
       "    .dataframe tbody tr th {\n",
       "        vertical-align: top;\n",
       "    }\n",
       "\n",
       "    .dataframe thead th {\n",
       "        text-align: right;\n",
       "    }\n",
       "</style>\n",
       "<table border=\"1\" class=\"dataframe\">\n",
       "  <thead>\n",
       "    <tr style=\"text-align: right;\">\n",
       "      <th></th>\n",
       "      <th>HeaderID</th>\n",
       "      <th>ViewID</th>\n",
       "      <th>GrainID</th>\n",
       "      <th>pol0</th>\n",
       "      <th>pol1</th>\n",
       "      <th>pol2</th>\n",
       "      <th>pol3</th>\n",
       "      <th>pol4</th>\n",
       "      <th>pol5</th>\n",
       "      <th>pol6</th>\n",
       "      <th>pol7</th>\n",
       "      <th>tr_flag</th>\n",
       "      <th>n_pol</th>\n",
       "    </tr>\n",
       "  </thead>\n",
       "  <tbody>\n",
       "    <tr>\n",
       "      <th>0</th>\n",
       "      <td>1</td>\n",
       "      <td>0</td>\n",
       "      <td>0</td>\n",
       "      <td>8998</td>\n",
       "      <td>9031</td>\n",
       "      <td>9061</td>\n",
       "      <td>9084</td>\n",
       "      <td>9113</td>\n",
       "      <td>-1</td>\n",
       "      <td>-1</td>\n",
       "      <td>-1</td>\n",
       "      <td>-1</td>\n",
       "      <td>5</td>\n",
       "    </tr>\n",
       "    <tr>\n",
       "      <th>1</th>\n",
       "      <td>1</td>\n",
       "      <td>0</td>\n",
       "      <td>4</td>\n",
       "      <td>8995</td>\n",
       "      <td>9027</td>\n",
       "      <td>9056</td>\n",
       "      <td>9079</td>\n",
       "      <td>9106</td>\n",
       "      <td>9141</td>\n",
       "      <td>9166</td>\n",
       "      <td>9223</td>\n",
       "      <td>2</td>\n",
       "      <td>8</td>\n",
       "    </tr>\n",
       "    <tr>\n",
       "      <th>2</th>\n",
       "      <td>1</td>\n",
       "      <td>0</td>\n",
       "      <td>10</td>\n",
       "      <td>8994</td>\n",
       "      <td>-1</td>\n",
       "      <td>-1</td>\n",
       "      <td>9078</td>\n",
       "      <td>9104</td>\n",
       "      <td>-1</td>\n",
       "      <td>9164</td>\n",
       "      <td>9220</td>\n",
       "      <td>-1</td>\n",
       "      <td>5</td>\n",
       "    </tr>\n",
       "    <tr>\n",
       "      <th>3</th>\n",
       "      <td>1</td>\n",
       "      <td>0</td>\n",
       "      <td>12</td>\n",
       "      <td>8993</td>\n",
       "      <td>-1</td>\n",
       "      <td>9053</td>\n",
       "      <td>-1</td>\n",
       "      <td>-1</td>\n",
       "      <td>-1</td>\n",
       "      <td>-1</td>\n",
       "      <td>9219</td>\n",
       "      <td>-1</td>\n",
       "      <td>3</td>\n",
       "    </tr>\n",
       "    <tr>\n",
       "      <th>4</th>\n",
       "      <td>1</td>\n",
       "      <td>0</td>\n",
       "      <td>13</td>\n",
       "      <td>8986</td>\n",
       "      <td>9017</td>\n",
       "      <td>9046</td>\n",
       "      <td>9074</td>\n",
       "      <td>9098</td>\n",
       "      <td>9135</td>\n",
       "      <td>9158</td>\n",
       "      <td>9215</td>\n",
       "      <td>-1</td>\n",
       "      <td>8</td>\n",
       "    </tr>\n",
       "    <tr>\n",
       "      <th>5</th>\n",
       "      <td>1</td>\n",
       "      <td>0</td>\n",
       "      <td>14</td>\n",
       "      <td>8980</td>\n",
       "      <td>9293</td>\n",
       "      <td>9319</td>\n",
       "      <td>9337</td>\n",
       "      <td>9363</td>\n",
       "      <td>9124</td>\n",
       "      <td>9153</td>\n",
       "      <td>9444</td>\n",
       "      <td>-1</td>\n",
       "      <td>8</td>\n",
       "    </tr>\n",
       "    <tr>\n",
       "      <th>6</th>\n",
       "      <td>1</td>\n",
       "      <td>0</td>\n",
       "      <td>25</td>\n",
       "      <td>8651</td>\n",
       "      <td>8685</td>\n",
       "      <td>8717</td>\n",
       "      <td>8751</td>\n",
       "      <td>8784</td>\n",
       "      <td>8813</td>\n",
       "      <td>8844</td>\n",
       "      <td>8908</td>\n",
       "      <td>-2</td>\n",
       "      <td>8</td>\n",
       "    </tr>\n",
       "    <tr>\n",
       "      <th>7</th>\n",
       "      <td>1</td>\n",
       "      <td>0</td>\n",
       "      <td>33</td>\n",
       "      <td>9263</td>\n",
       "      <td>9290</td>\n",
       "      <td>9315</td>\n",
       "      <td>9335</td>\n",
       "      <td>9361</td>\n",
       "      <td>-1</td>\n",
       "      <td>-1</td>\n",
       "      <td>9442</td>\n",
       "      <td>2</td>\n",
       "      <td>6</td>\n",
       "    </tr>\n",
       "    <tr>\n",
       "      <th>8</th>\n",
       "      <td>1</td>\n",
       "      <td>0</td>\n",
       "      <td>34</td>\n",
       "      <td>9258</td>\n",
       "      <td>9286</td>\n",
       "      <td>-1</td>\n",
       "      <td>-1</td>\n",
       "      <td>-1</td>\n",
       "      <td>-1</td>\n",
       "      <td>-1</td>\n",
       "      <td>-1</td>\n",
       "      <td>-2</td>\n",
       "      <td>2</td>\n",
       "    </tr>\n",
       "    <tr>\n",
       "      <th>9</th>\n",
       "      <td>1</td>\n",
       "      <td>0</td>\n",
       "      <td>38</td>\n",
       "      <td>-1</td>\n",
       "      <td>-1</td>\n",
       "      <td>8707</td>\n",
       "      <td>-1</td>\n",
       "      <td>-1</td>\n",
       "      <td>-1</td>\n",
       "      <td>-1</td>\n",
       "      <td>-1</td>\n",
       "      <td>-2</td>\n",
       "      <td>1</td>\n",
       "    </tr>\n",
       "  </tbody>\n",
       "</table>\n",
       "</div>"
      ],
      "text/plain": [
       "   HeaderID  ViewID  GrainID  pol0  pol1  pol2  pol3  pol4  pol5  pol6  pol7  \\\n",
       "0         1       0        0  8998  9031  9061  9084  9113    -1    -1    -1   \n",
       "1         1       0        4  8995  9027  9056  9079  9106  9141  9166  9223   \n",
       "2         1       0       10  8994    -1    -1  9078  9104    -1  9164  9220   \n",
       "3         1       0       12  8993    -1  9053    -1    -1    -1    -1  9219   \n",
       "4         1       0       13  8986  9017  9046  9074  9098  9135  9158  9215   \n",
       "5         1       0       14  8980  9293  9319  9337  9363  9124  9153  9444   \n",
       "6         1       0       25  8651  8685  8717  8751  8784  8813  8844  8908   \n",
       "7         1       0       33  9263  9290  9315  9335  9361    -1    -1  9442   \n",
       "8         1       0       34  9258  9286    -1    -1    -1    -1    -1    -1   \n",
       "9         1       0       38    -1    -1  8707    -1    -1    -1    -1    -1   \n",
       "\n",
       "   tr_flag  n_pol  \n",
       "0       -1      5  \n",
       "1        2      8  \n",
       "2       -1      5  \n",
       "3       -1      3  \n",
       "4       -1      8  \n",
       "5       -1      8  \n",
       "6       -2      8  \n",
       "7        2      6  \n",
       "8       -2      2  \n",
       "9       -2      1  "
      ]
     },
     "execution_count": 9,
     "metadata": {},
     "output_type": "execute_result"
    }
   ],
   "source": [
    "pol_ids['C60keV'].head(10)"
   ]
  },
  {
   "cell_type": "code",
   "execution_count": null,
   "metadata": {},
   "outputs": [],
   "source": []
  },
  {
   "cell_type": "markdown",
   "metadata": {},
   "source": [
    "* empty polarizations are loaded with zeros! subject to interpolation?\n",
    "\n",
    "* 9th polarization is a copy of 1st in purpose of cyclicity (periodic boundary conditions)"
   ]
  },
  {
   "cell_type": "code",
   "execution_count": null,
   "metadata": {},
   "outputs": [],
   "source": []
  },
  {
   "cell_type": "code",
   "execution_count": 12,
   "metadata": {},
   "outputs": [
    {
     "data": {
      "text/plain": [
       "['284_gr_95_pol_1_cl_381_tr_-2_npol_8.csv',\n",
       " '380_gr_351_pol_4_cl_1451_tr_-2_npol_8.csv',\n",
       " '466_gr_21_pol_0_cl_3659_tr_-1_npol_8.csv']"
      ]
     },
     "execution_count": 12,
     "metadata": {},
     "output_type": "execute_result"
    }
   ],
   "source": [
    "os.listdir(path_dir+'C100keV/C2/csvs/')[:3]"
   ]
  },
  {
   "cell_type": "code",
   "execution_count": 13,
   "metadata": {},
   "outputs": [
    {
     "name": "stdout",
     "output_type": "stream",
     "text": [
      "Carbon/30keV  with  182179  images\n",
      "loaded in  3:41:27.964542 \n",
      "\n",
      "Carbon/60keV  with  189537  images\n",
      "loaded in  3:50:51.022976 \n",
      "\n",
      "Carbon/100keV/C1  with  108162  images\n",
      "loaded in  2:12:25.363611 \n",
      "\n",
      "Carbon/100keV/C2  with  95683  images\n",
      "loaded in  1:56:40.556791 \n",
      "\n",
      "total loading time: 11:41:25.249234\n",
      "CPU times: user 11h 17min 18s, sys: 8min 41s, total: 11h 25min 59s\n",
      "Wall time: 11h 41min 25s\n"
     ]
    }
   ],
   "source": [
    "%%time\n",
    "ims_check = []\n",
    "ims = {}\n",
    "start = datetime.now()\n",
    "for name in class_names_C:\n",
    "    fold = datetime.now()\n",
    "    ims[name] = load_pol_images(pol_ids[name], path_dir, name, n_pol=9)\n",
    "    print(short_name(name),' with ',ims[name].shape[0],' images')\n",
    "    ims_check.append((ims[name][...,0]-ims[name][...,-1]).sum())\n",
    "    with h5py.File('data_raw_9pol.h5','a') as dfile:\n",
    "        dfile.create_dataset(short_name(name)+'/images', data=ims[name])\n",
    "    print('loaded in ',datetime.now()-fold,'\\n')\n",
    "    del ims[name]\n",
    "    gc.collect()\n",
    "print('total loading time:',datetime.now()-start)\n",
    "\n",
    "'load raw images'"
   ]
  },
  {
   "cell_type": "code",
   "execution_count": 14,
   "metadata": {},
   "outputs": [
    {
     "data": {
      "text/plain": [
       "[0, 0, 0, 0]"
      ]
     },
     "execution_count": 14,
     "metadata": {},
     "output_type": "execute_result"
    }
   ],
   "source": [
    "ims_check"
   ]
  },
  {
   "cell_type": "code",
   "execution_count": 15,
   "metadata": {},
   "outputs": [
    {
     "name": "stdout",
     "output_type": "stream",
     "text": [
      "loading features:   Carbon/30keV\n",
      "\tin  2:00:45.458735 \n",
      "\n",
      "loading features:   Carbon/60keV\n",
      "\tin  2:11:31.844276 \n",
      "\n",
      "loading features:   Carbon/100keV/C1\n",
      "\tin  1:08:18.333568 \n",
      "\n",
      "loading features:   Carbon/100keV/C2\n",
      "\tin  0:59:13.750377 \n",
      "\n",
      "total loading time: 6:19:49.527976\n",
      "CPU times: user 1d 12h 37min 32s, sys: 45min 45s, total: 1d 13h 23min 18s\n",
      "Wall time: 6h 19min 49s\n"
     ]
    },
    {
     "name": "stderr",
     "output_type": "stream",
     "text": [
      "Warning in <TClass::Init>: no dictionary for class DMRViewHeader is available\n",
      "Warning in <TClass::Init>: no dictionary for class DMRAffine2D is available\n",
      "Warning in <TClass::Init>: no dictionary for class DMRCluster is available\n",
      "Warning in <TClass::Init>: no dictionary for class DMRGrain is available\n",
      "Warning in <TClass::Init>: no dictionary for class DMRMicrotrack is available\n",
      "Warning in <TClass::Init>: no dictionary for class DMRImageCl is available\n",
      "Warning in <TClass::Init>: no dictionary for class DMRImage is available\n",
      "Warning in <TClass::Init>: no dictionary for class DMRFrame is available\n"
     ]
    }
   ],
   "source": [
    "%%time\n",
    "start = datetime.now()\n",
    "feat_check = []\n",
    "feat_data = {}\n",
    "for name in class_names_C:\n",
    "    fold = datetime.now()\n",
    "    print('loading features:  ',short_name(name))\n",
    "    feat_data[name] = get_pol_feat(pol_ids[name], n_pol=9, path_dir=path_dir, class_name=name, feat_names=feat_names)\n",
    "    feat_check.append((feat_data[name].values[:,:9]-feat_data[name].values[:,-11:-2]).sum(axis=0))\n",
    "    with h5py.File('data_raw_9pol.h5', 'a') as datafile:\n",
    "        datafile.create_dataset(short_name(name)+'/features', data=feat_data[name])\n",
    "    print('\\tin ',datetime.now()-fold,'\\n')\n",
    "    del feat_data[name]\n",
    "    gc.collect()\n",
    "print('total loading time:',datetime.now()-start)\n",
    "\n",
    "        \n",
    "'load features (paralellized automatically)'"
   ]
  },
  {
   "cell_type": "code",
   "execution_count": 16,
   "metadata": {},
   "outputs": [
    {
     "data": {
      "text/html": [
       "<div>\n",
       "<style scoped>\n",
       "    .dataframe tbody tr th:only-of-type {\n",
       "        vertical-align: middle;\n",
       "    }\n",
       "\n",
       "    .dataframe tbody tr th {\n",
       "        vertical-align: top;\n",
       "    }\n",
       "\n",
       "    .dataframe thead th {\n",
       "        text-align: right;\n",
       "    }\n",
       "</style>\n",
       "<table border=\"1\" class=\"dataframe\">\n",
       "  <thead>\n",
       "    <tr style=\"text-align: right;\">\n",
       "      <th></th>\n",
       "      <th>0</th>\n",
       "      <th>1</th>\n",
       "      <th>2</th>\n",
       "      <th>3</th>\n",
       "      <th>4</th>\n",
       "      <th>5</th>\n",
       "      <th>6</th>\n",
       "      <th>7</th>\n",
       "      <th>8</th>\n",
       "    </tr>\n",
       "  </thead>\n",
       "  <tbody>\n",
       "    <tr>\n",
       "      <th>0</th>\n",
       "      <td>0.0</td>\n",
       "      <td>0.0</td>\n",
       "      <td>0.0</td>\n",
       "      <td>NaN</td>\n",
       "      <td>0.0</td>\n",
       "      <td>0.0</td>\n",
       "      <td>0.0</td>\n",
       "      <td>0.0</td>\n",
       "      <td>NaN</td>\n",
       "    </tr>\n",
       "    <tr>\n",
       "      <th>1</th>\n",
       "      <td>0.0</td>\n",
       "      <td>0.0</td>\n",
       "      <td>0.0</td>\n",
       "      <td>NaN</td>\n",
       "      <td>0.0</td>\n",
       "      <td>0.0</td>\n",
       "      <td>0.0</td>\n",
       "      <td>0.0</td>\n",
       "      <td>NaN</td>\n",
       "    </tr>\n",
       "    <tr>\n",
       "      <th>2</th>\n",
       "      <td>0.0</td>\n",
       "      <td>0.0</td>\n",
       "      <td>0.0</td>\n",
       "      <td>NaN</td>\n",
       "      <td>0.0</td>\n",
       "      <td>0.0</td>\n",
       "      <td>0.0</td>\n",
       "      <td>0.0</td>\n",
       "      <td>NaN</td>\n",
       "    </tr>\n",
       "    <tr>\n",
       "      <th>3</th>\n",
       "      <td>0.0</td>\n",
       "      <td>0.0</td>\n",
       "      <td>0.0</td>\n",
       "      <td>NaN</td>\n",
       "      <td>0.0</td>\n",
       "      <td>0.0</td>\n",
       "      <td>0.0</td>\n",
       "      <td>0.0</td>\n",
       "      <td>NaN</td>\n",
       "    </tr>\n",
       "  </tbody>\n",
       "</table>\n",
       "</div>"
      ],
      "text/plain": [
       "     0    1    2   3    4    5    6    7   8\n",
       "0  0.0  0.0  0.0 NaN  0.0  0.0  0.0  0.0 NaN\n",
       "1  0.0  0.0  0.0 NaN  0.0  0.0  0.0  0.0 NaN\n",
       "2  0.0  0.0  0.0 NaN  0.0  0.0  0.0  0.0 NaN\n",
       "3  0.0  0.0  0.0 NaN  0.0  0.0  0.0  0.0 NaN"
      ]
     },
     "execution_count": 16,
     "metadata": {},
     "output_type": "execute_result"
    }
   ],
   "source": [
    "pd.DataFrame(data=np.array(feat_check))"
   ]
  },
  {
   "cell_type": "code",
   "execution_count": 17,
   "metadata": {},
   "outputs": [
    {
     "name": "stdout",
     "output_type": "stream",
     "text": [
      "['x', 'y', 'z', 'lx', 'ly', 'phi', 'npx', 'vol', 'eps']\n"
     ]
    }
   ],
   "source": [
    "print(feat_names)"
   ]
  },
  {
   "cell_type": "code",
   "execution_count": 18,
   "metadata": {},
   "outputs": [
    {
     "name": "stdout",
     "output_type": "stream",
     "text": [
      "C30keV (182179, 32, 32, 9) \t (182179, 83)\n",
      "C60keV (189537, 32, 32, 9) \t (189537, 83)\n",
      "C100keV/C1 (108162, 32, 32, 9) \t (108162, 83)\n",
      "C100keV/C2 (95683, 32, 32, 9) \t (95683, 83)\n"
     ]
    }
   ],
   "source": [
    "with h5py.File('data_raw_9pol.h5','r') as df:\n",
    "    for name in class_names_C:\n",
    "        print(name, df[short_name(name)+'/images'].shape,'\\t',df[short_name(name)+'/features'].shape)"
   ]
  },
  {
   "cell_type": "code",
   "execution_count": 19,
   "metadata": {},
   "outputs": [
    {
     "name": "stdout",
     "output_type": "stream",
     "text": [
      "C30keV (182179, 32, 32, 8) \t (182179, 74)\n",
      "C60keV (189537, 32, 32, 8) \t (189537, 74)\n",
      "C100keV/C1 (108162, 32, 32, 8) \t (108162, 74)\n",
      "C100keV/C2 (95683, 32, 32, 8) \t (95683, 74)\n"
     ]
    }
   ],
   "source": [
    "with h5py.File('data_raw.h5','r') as df:\n",
    "    for name in class_names_C:\n",
    "        print(name, df[name+'/images'].shape,'\\t',df[name+'/features'].shape)"
   ]
  },
  {
   "cell_type": "code",
   "execution_count": 22,
   "metadata": {},
   "outputs": [
    {
     "data": {
      "text/plain": [
       "(132946, 74)"
      ]
     },
     "execution_count": 22,
     "metadata": {},
     "output_type": "execute_result"
    }
   ],
   "source": [
    "with h5py.File('data_raw.h5','r') as df:\n",
    "    copa = df['C30keV/features'][...]\n",
    "copa[copa[:,-2]<0].shape"
   ]
  },
  {
   "cell_type": "code",
   "execution_count": 23,
   "metadata": {},
   "outputs": [
    {
     "data": {
      "text/plain": [
       "(171946, 83)"
      ]
     },
     "execution_count": 23,
     "metadata": {},
     "output_type": "execute_result"
    }
   ],
   "source": [
    "with h5py.File('data_raw_9pol.h5','r') as df:\n",
    "    copa = df['Carbon/30keV/features'][...]\n",
    "copa[copa[:,-2]<0].shape"
   ]
  },
  {
   "cell_type": "code",
   "execution_count": null,
   "metadata": {},
   "outputs": [],
   "source": []
  },
  {
   "cell_type": "code",
   "execution_count": null,
   "metadata": {},
   "outputs": [],
   "source": []
  },
  {
   "cell_type": "code",
   "execution_count": null,
   "metadata": {},
   "outputs": [],
   "source": []
  },
  {
   "cell_type": "code",
   "execution_count": null,
   "metadata": {},
   "outputs": [],
   "source": []
  },
  {
   "cell_type": "code",
   "execution_count": null,
   "metadata": {},
   "outputs": [],
   "source": []
  },
  {
   "cell_type": "code",
   "execution_count": null,
   "metadata": {},
   "outputs": [],
   "source": []
  },
  {
   "cell_type": "code",
   "execution_count": null,
   "metadata": {},
   "outputs": [],
   "source": []
  },
  {
   "cell_type": "code",
   "execution_count": 31,
   "metadata": {},
   "outputs": [
    {
     "name": "stdout",
     "output_type": "stream",
     "text": [
      "Carbon/30keV    \timgs:  (182179, 32, 32, 9) \tfeats:  (182179, 83)\n",
      "Carbon/60keV    \timgs:  (189537, 32, 32, 9) \tfeats:  (189537, 83)\n",
      "Carbon/100keV/C2    \timgs:  (95683, 32, 32, 9) \tfeats:  (95683, 83)\n",
      "Carbon/100keV/C1    \timgs:  (108162, 32, 32, 9) \tfeats:  (108162, 83)\n",
      "fog/Scan2    \timgs:  (6205, 32, 32, 9) \tfeats:  (6205, 83)\n",
      "fog/Scan9    \timgs:  (78928, 32, 32, 9) \tfeats:  (78928, 83)\n",
      "fog/Scan11    \timgs:  (74267, 32, 32, 9) \tfeats:  (74267, 83)\n",
      "fog/Scan8    \timgs:  (64397, 32, 32, 9) \tfeats:  (64397, 83)\n",
      "fog/Scan7    \timgs:  (59160, 32, 32, 9) \tfeats:  (59160, 83)\n",
      "fog/Scan3    \timgs:  (13445, 32, 32, 9) \tfeats:  (13445, 83)\n",
      "fog/Scan6    \timgs:  (52040, 32, 32, 9) \tfeats:  (52040, 83)\n",
      "fog/Scan4    \timgs:  (31263, 32, 32, 9) \tfeats:  (31263, 83)\n",
      "gamma/Cs137/400views_2    \timgs:  (89718, 32, 32, 9) \tfeats:  (89718, 83)\n",
      "gamma/Cs137/400views_1    \timgs:  (87384, 32, 32, 9) \tfeats:  (87384, 83)\n",
      "\n",
      "CPU times: user 55.5 ms, sys: 4.78 s, total: 4.84 s\n",
      "Wall time: 20.1 s\n"
     ]
    }
   ],
   "source": [
    "%%time\n",
    "ims, feat_data = {}, {}\n",
    "with h5py.File('data_raw_9pol.h5','r') as dfile:\n",
    "    for name in class_names_ft:\n",
    "        name = short_name(name)\n",
    "        ims[name] = dfile[name+'/images'][...]\n",
    "        feat_data[name] = pd.DataFrame(data=dfile[name+'/features'][...], columns=feat_array)\n",
    "        print(name,'   \\timgs: ',ims[name].shape,'\\tfeats: ',feat_data[name].shape)\n",
    "gc.collect()\n",
    "print()"
   ]
  },
  {
   "cell_type": "code",
   "execution_count": 32,
   "metadata": {},
   "outputs": [
    {
     "data": {
      "text/plain": [
       "44"
      ]
     },
     "execution_count": 32,
     "metadata": {},
     "output_type": "execute_result"
    }
   ],
   "source": [
    "gc.collect()"
   ]
  },
  {
   "cell_type": "code",
   "execution_count": null,
   "metadata": {},
   "outputs": [],
   "source": []
  },
  {
   "cell_type": "code",
   "execution_count": 33,
   "metadata": {},
   "outputs": [],
   "source": [
    "# for Fog scans\n",
    "bulk_range = {'2':(-18,24), '9':(-22,21), '11':(-21,22), '8':(-21,22), '7':(-22,22), '3':(-19,17), '6':(-20,23), '4':(-24,23)}\n",
    "# for Gamma:\n",
    "# ViewID > 10\n",
    "# 'bulk' = (-15,10)"
   ]
  },
  {
   "cell_type": "code",
   "execution_count": 35,
   "metadata": {},
   "outputs": [
    {
     "data": {
      "text/plain": [
       "['Carbon/30keV',\n",
       " 'Carbon/60keV',\n",
       " 'Carbon/100keV/C2',\n",
       " 'Carbon/100keV/C1',\n",
       " 'fog/Scan2',\n",
       " 'fog/Scan9',\n",
       " 'fog/Scan11',\n",
       " 'fog/Scan8',\n",
       " 'fog/Scan7',\n",
       " 'fog/Scan3',\n",
       " 'fog/Scan6',\n",
       " 'fog/Scan4',\n",
       " 'gamma/Cs137/400views_2',\n",
       " 'gamma/Cs137/400views_1']"
      ]
     },
     "execution_count": 35,
     "metadata": {},
     "output_type": "execute_result"
    }
   ],
   "source": [
    "list(feat_data.keys())"
   ]
  },
  {
   "cell_type": "code",
   "execution_count": null,
   "metadata": {},
   "outputs": [],
   "source": []
  },
  {
   "cell_type": "code",
   "execution_count": 10,
   "metadata": {},
   "outputs": [
    {
     "data": {
      "text/plain": [
       "['Carbon/30keV',\n",
       " 'Carbon/60keV',\n",
       " 'Carbon/100keV',\n",
       " 'gamma/Cs137',\n",
       " 'gamma/Co60',\n",
       " 'fog']"
      ]
     },
     "execution_count": 10,
     "metadata": {},
     "output_type": "execute_result"
    }
   ],
   "source": [
    "for i in range(3):\n",
    "    class_keys[i] = short_name(class_keys[i])\n",
    "class_keys"
   ]
  },
  {
   "cell_type": "code",
   "execution_count": 44,
   "metadata": {},
   "outputs": [
    {
     "name": "stdout",
     "output_type": "stream",
     "text": [
      "Cleaning divergent samples and edge images\n",
      "Rejecting unphysical dirty emulsion's surfaces for bckg samples\n",
      "\n",
      "12951 \tBad  Carbon/30keV  cleaned in  0:00:50.204328\n",
      "16002 \tBad  Carbon/60keV  cleaned in  0:00:52.200815\n",
      "11026 \tBad  Carbon/100keV/C2  cleaned in  0:00:26.594517\n",
      "11811 \tBad  Carbon/100keV/C1  cleaned in  0:00:29.950821\n",
      "2404 \tBad  fog/Scan2  cleaned in  0:00:01.693442\n",
      "61027 \tBad  fog/Scan9  cleaned in  0:00:22.314968\n",
      "54063 \tBad  fog/Scan11  cleaned in  0:00:20.758369\n",
      "49573 \tBad  fog/Scan8  cleaned in  0:00:18.057152\n",
      "46196 \tBad  fog/Scan7  cleaned in  0:00:16.414714\n",
      "9950 \tBad  fog/Scan3  cleaned in  0:00:03.732599\n",
      "37657 \tBad  fog/Scan6  cleaned in  0:00:14.436520\n",
      "23883 \tBad  fog/Scan4  cleaned in  0:00:08.719270\n",
      "41094 \tBad  gamma/Cs137/400views_2  cleaned in  0:00:25.167427\n",
      "37840 \tBad  gamma/Cs137/400views_1  cleaned in  0:00:23.685827\n",
      "Total cleaning time: 0:05:19.444428\n"
     ]
    }
   ],
   "source": [
    "#%%time\n",
    "print('Cleaning divergent samples and edge images')\n",
    "print(\"Rejecting unphysical dirty emulsion's surfaces for bckg samples\")\n",
    "#print('Splitting into train-val-test (80-10-10) and saving to dataset_phys_clean.h5')\n",
    "print('')\n",
    "tmp_name = short_name(class_names_ft[0])\n",
    "ims['Carbon/100keV'] = np.ones((0, *ims[tmp_name].shape[1:]),dtype=ims[tmp_name].dtype)\n",
    "ims['fog'] = np.copy(ims['Carbon/100keV'])\n",
    "ims['gamma/Cs137'] = np.copy(ims['Carbon/100keV'])\n",
    "feat_data['Carbon/100keV'] = np.ones((0, *feat_data[tmp_name].shape[1:]))\n",
    "feat_data['fog'] = np.copy(feat_data['Carbon/100keV'])\n",
    "feat_data['gamma/Cs137'] = np.copy(feat_data['Carbon/100keV'])\n",
    "\n",
    "bads = {}\n",
    "start = datetime.now()\n",
    "for name in class_names_ft:\n",
    "    s_name = short_name(name)\n",
    "    fold = datetime.now()\n",
    "    bads[name] = set()\n",
    "    if 'fog' in name or 'gamma' in name:\n",
    "        tmp_range = bulk_range[name[8:].split('_')[0]] if 'fog' in name else (-15,10)\n",
    "        for i in range(8):\n",
    "            bads[name] |= set(feat_data[s_name][feat_data[s_name]['z'+str(i)]<tmp_range[0]].index)\n",
    "            bads[name] |= set(feat_data[s_name][feat_data[s_name]['z'+str(i)]>tmp_range[1]].index)\n",
    "    if 'gamma' in name: bads[name] |= set(feat_data[s_name][pol_ids[name]['ViewID']<10].index)\n",
    "    bads[name] = bad_inds(pol_ids[name], imgs=ims[s_name], features=feat_data[s_name],\n",
    "                          isolated=True, quant=0.999, bad_i=bads[name])\n",
    "    print(len(bads[name]),'\\tBad ',s_name,' cleaned in ',datetime.now()-fold)\n",
    "    np.savetxt('bad_sample_ids/phys_'+'_'.join(s_name.split('/'))+'.txt', bads[name], fmt='%d')\n",
    "    mask = np.ones(pol_ids[name].shape[0], dtype=bool)\n",
    "    mask[bads[name]] = False\n",
    "    if 'fog' in name:\n",
    "        ims['fog'] = np.vstack((ims['fog'],ims[s_name][mask]))\n",
    "        feat_data['fog'] = np.vstack((feat_data['fog'],(feat_data[s_name].values)[mask]))\n",
    "    elif 'gamma' in name:\n",
    "        ims['gamma/Cs137'] = np.vstack((ims['gamma/Cs137'],ims[s_name][mask]))\n",
    "        feat_data['gamma/Cs137'] = np.vstack((feat_data['gamma/Cs137'],(feat_data[s_name].values)[mask]))\n",
    "    elif '100keV' in name:\n",
    "        ims['Carbon/100keV'] = np.vstack((ims['Carbon/100keV'],ims[s_name][mask]))\n",
    "        feat_data['Carbon/100keV'] = np.vstack((feat_data['Carbon/100keV'],(feat_data[s_name].values)[mask]))\n",
    "    else:\n",
    "        ims[s_name] = ims[s_name][mask]\n",
    "        feat_data[s_name] = (feat_data[s_name].values)[mask]\n",
    "        feat_data[s_name] = pd.DataFrame(data=feat_data[s_name], columns=feat_array)\n",
    "    _=gc.collect()\n",
    "feat_data['fog'] = pd.DataFrame(data=feat_data['fog'], columns=feat_array)\n",
    "feat_data['gamma/Cs137'] = pd.DataFrame(data=feat_data['gamma/Cs137'], columns=feat_array)\n",
    "feat_data['Carbon/100keV'] = pd.DataFrame(data=feat_data['Carbon/100keV'], columns=feat_array)\n",
    "print('Total cleaning time:',datetime.now()-start)\n",
    "\n",
    "for name in class_keys:\n",
    "    im_tr, im_val = train_test_split(ims[name], test_size=0.4, shuffle=False)\n",
    "    feat_tr, feat_val = train_test_split(feat_data[name].values, test_size=0.4, shuffle=False)\n",
    "    \n",
    "    with h5py.File('dataset_phys_clean_9pol.h5', 'a') as datafile:\n",
    "        datafile.create_dataset(name+'/images/train', data=im_tr)\n",
    "        datafile.create_dataset(name+'/images/val', data=im_val)\n",
    "        datafile.create_dataset(name+'/features/train', data=feat_tr)\n",
    "        datafile.create_dataset(name+'/features/val', data=feat_val)\n",
    "\n",
    "_='''print('Wall time ~4 min\\n')\n",
    "for name in class_names_ft:\n",
    "    f_name = '_'.join(name.split('/'))\n",
    "    print(np.loadtxt('bad_sample_ids/'+f_name+'.txt').shape[0], '\\tBad ',f_name)'''"
   ]
  },
  {
   "cell_type": "code",
   "execution_count": null,
   "metadata": {},
   "outputs": [],
   "source": []
  },
  {
   "cell_type": "code",
   "execution_count": 11,
   "metadata": {},
   "outputs": [
    {
     "name": "stdout",
     "output_type": "stream",
     "text": [
      "Carbon/30keV:\n",
      "images:\n",
      "train:  (101536, 32, 32, 9) \tval:  (67692, 32, 32, 9) \t\n",
      "features:\n",
      "train:  (101536, 83)\t\tval:  (67692, 83)\t\t\n",
      "\n",
      "Carbon/60keV:\n",
      "images:\n",
      "train:  (104121, 32, 32, 9) \tval:  (69414, 32, 32, 9) \t\n",
      "features:\n",
      "train:  (104121, 83)\t\tval:  (69414, 83)\t\t\n",
      "\n",
      "Carbon/100keV:\n",
      "images:\n",
      "train:  (108604, 32, 32, 9) \tval:  (72404, 32, 32, 9) \t\n",
      "features:\n",
      "train:  (108604, 83)\t\tval:  (72404, 83)\t\t\n",
      "\n",
      "gamma/Cs137:\n",
      "images:\n",
      "train:  (58900, 32, 32, 9) \tval:  (39268, 32, 32, 9) \t\n",
      "features:\n",
      "train:  (58900, 83)\t\tval:  (39268, 83)\t\t\n",
      "\n",
      "gamma/Co60:\n",
      "images:\n",
      "train:  (69870, 32, 32, 9) \tval:  (46580, 32, 32, 9) \t\n",
      "features:\n",
      "train:  (69870, 83)\t\tval:  (46580, 83)\t\t\n",
      "\n",
      "fog:\n",
      "images:\n",
      "train:  (56971, 32, 32, 9) \tval:  (37981, 32, 32, 9) \t\n",
      "features:\n",
      "train:  (56971, 83)\t\tval:  (37981, 83)\t\t\n",
      "\n"
     ]
    }
   ],
   "source": [
    "with h5py.File('dataset_phys_clean_9pol.h5', 'r') as dfile:\n",
    "    for name in class_keys:\n",
    "        print(name+':')\n",
    "        for i in ['images','features']:\n",
    "            print(i+':')\n",
    "            for t in ['train','val']:\n",
    "                pr = ' \\t' if i=='images' else '\\t\\t'\n",
    "                print(t+': ', dfile[name+'/'+i+'/'+t].shape, end=pr)\n",
    "            print('',end='\\n')\n",
    "        print('',end='\\n')"
   ]
  },
  {
   "cell_type": "code",
   "execution_count": null,
   "metadata": {},
   "outputs": [],
   "source": []
  },
  {
   "cell_type": "code",
   "execution_count": null,
   "metadata": {},
   "outputs": [],
   "source": []
  },
  {
   "cell_type": "markdown",
   "metadata": {},
   "source": [
    "### Producing ready-to-use datasets to feed into train-test"
   ]
  },
  {
   "cell_type": "code",
   "execution_count": 12,
   "metadata": {},
   "outputs": [],
   "source": [
    "readir = 'ready-to-float/'\n",
    "dset = '/mnt/ML-drive/Artem/Python/NEWS/data/dataset_phys_clean_9pol.h5'\n",
    "bckg_names = ['fog']\n",
    "with h5py.File(dset,'r') as df:\n",
    "    sig_names = ['Carbon/'+s for s in df['Carbon'].keys()]\n",
    "    bckg_names += ['gamma/'+s for s in df['gamma'].keys()]"
   ]
  },
  {
   "cell_type": "code",
   "execution_count": 13,
   "metadata": {},
   "outputs": [],
   "source": [
    "ims, feats = {},{}\n",
    "with h5py.File('dataset_phys_clean_9pol.h5', 'r') as dfile:\n",
    "    for name in class_keys:\n",
    "        for i in ['images','features']:\n",
    "            for t in ['train','val']:\n",
    "                if i=='images': ims[name+'/'+i+'/'+t] = dfile[name+'/'+i+'/'+t][...]\n",
    "                else: feats[name+'/'+i+'/'+t] = dfile[name+'/'+i+'/'+t][...]"
   ]
  },
  {
   "cell_type": "code",
   "execution_count": 15,
   "metadata": {},
   "outputs": [
    {
     "name": "stdout",
     "output_type": "stream",
     "text": [
      "CPU times: user 1min 12s, sys: 51.6 s, total: 2min 3s\n",
      "Wall time: 12min 6s\n"
     ]
    }
   ],
   "source": [
    "%%time\n",
    "for s in sig_names:\n",
    "    s_ = '-'.join(s.split('/'))\n",
    "    for b in bckg_names:\n",
    "        b_ = '-'.join(b.split('/'))\n",
    "        with h5py.File(readir+s_+'_'+b_+'.h5','a') as sb_file:\n",
    "            for t in ['train','val']:\n",
    "                X_im = np.vstack((ims[s+'/images/'+t],ims[b+'/images/'+t]))\n",
    "                X_f = np.vstack((feats[s+'/features/'+t],feats[b+'/features/'+t]))\n",
    "                y = np.append(np.ones(ims[s+'/images/'+t].shape[0]),np.zeros(ims[b+'/images/'+t].shape[0]))\n",
    "                shuff = np.random.permutation(len(y))\n",
    "                sb_file.create_dataset(t+'/images', data=X_im[shuff], dtype=np.float32)\n",
    "                sb_file.create_dataset(t+'/features', data=X_f[shuff], dtype=np.float32)\n",
    "                sb_file.create_dataset(t+'/labels', data=y[shuff], dtype=int)"
   ]
  },
  {
   "cell_type": "code",
   "execution_count": null,
   "metadata": {},
   "outputs": [],
   "source": []
  },
  {
   "cell_type": "code",
   "execution_count": null,
   "metadata": {},
   "outputs": [],
   "source": []
  },
  {
   "cell_type": "code",
   "execution_count": null,
   "metadata": {},
   "outputs": [],
   "source": []
  },
  {
   "cell_type": "markdown",
   "metadata": {},
   "source": [
    "* Example of loading the libDMRoot in PyROOT"
   ]
  },
  {
   "cell_type": "code",
   "execution_count": 46,
   "metadata": {},
   "outputs": [
    {
     "name": "stderr",
     "output_type": "stream",
     "text": [
      "Warning in <TClass::Init>: no dictionary for class DMRViewHeader is available\n",
      "Warning in <TClass::Init>: no dictionary for class DMRAffine2D is available\n",
      "Warning in <TClass::Init>: no dictionary for class DMRCluster is available\n",
      "Warning in <TClass::Init>: no dictionary for class DMRGrain is available\n",
      "Warning in <TClass::Init>: no dictionary for class DMRMicrotrack is available\n",
      "Warning in <TClass::Init>: no dictionary for class DMRImageCl is available\n",
      "Warning in <TClass::Init>: no dictionary for class DMRImage is available\n",
      "Warning in <TClass::Init>: no dictionary for class DMRFrame is available\n"
     ]
    }
   ],
   "source": [
    "f = ROOT.TFile.Open(path_dir+'C60keV/dm_tracks.dm.root','read')"
   ]
  },
  {
   "cell_type": "code",
   "execution_count": 47,
   "metadata": {},
   "outputs": [
    {
     "data": {
      "text/plain": [
       "0"
      ]
     },
     "execution_count": 47,
     "metadata": {},
     "output_type": "execute_result"
    },
    {
     "name": "stderr",
     "output_type": "stream",
     "text": [
      "Error in <TCling::RegisterModule>: cannot find dictionary module DMRootCint_rdict.pcm\n"
     ]
    }
   ],
   "source": [
    "ROOT.gSystem.Load('libDMRoot')"
   ]
  },
  {
   "cell_type": "code",
   "execution_count": 48,
   "metadata": {},
   "outputs": [
    {
     "name": "stdout",
     "output_type": "stream",
     "text": [
      "DMRRun::OpenNew : Open new file dm_tracks.dm.root\n"
     ]
    },
    {
     "name": "stderr",
     "output_type": "stream",
     "text": [
      "Warning in <TTree::Bronch>: Using split mode on a class: DMRCluster with a custom Streamer\n",
      "Warning in <TTree::Bronch>: Using split mode on a class: DMRGrain with a custom Streamer\n",
      "Warning in <TTree::Bronch>: Using split mode on a class: DMRMicrotrack with a custom Streamer\n",
      "Warning in <TTree::Bronch>: Using split mode on a class: DMRImageCl with a custom Streamer\n",
      "Warning in <TTree::Bronch>: Using split mode on a class: DMRFrame with a custom Streamer\n"
     ]
    }
   ],
   "source": [
    "arun = ROOT.DMRRun(\"dm_tracks.dm.root\")"
   ]
  },
  {
   "cell_type": "code",
   "execution_count": null,
   "metadata": {},
   "outputs": [],
   "source": []
  }
 ],
 "metadata": {
  "kernelspec": {
   "display_name": "Python 3",
   "language": "python",
   "name": "python3"
  },
  "language_info": {
   "codemirror_mode": {
    "name": "ipython",
    "version": 3
   },
   "file_extension": ".py",
   "mimetype": "text/x-python",
   "name": "python",
   "nbconvert_exporter": "python",
   "pygments_lexer": "ipython3",
   "version": "3.6.7"
  }
 },
 "nbformat": 4,
 "nbformat_minor": 2
}
