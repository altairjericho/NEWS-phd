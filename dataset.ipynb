{
 "cells": [
  {
   "cell_type": "code",
   "execution_count": 1,
   "metadata": {},
   "outputs": [
    {
     "name": "stdout",
     "output_type": "stream",
     "text": [
      "Welcome to JupyROOT 6.14/04\n"
     ]
    }
   ],
   "source": [
    "import ROOT\n",
    "import os, re, gc, h5py\n",
    "import numpy as np\n",
    "import pandas as pd\n",
    "from sklearn.model_selection import train_test_split\n",
    "import matplotlib.pyplot as plt\n",
    "from data_utils import *"
   ]
  },
  {
   "cell_type": "code",
   "execution_count": 2,
   "metadata": {},
   "outputs": [],
   "source": [
    "copa = np.array([np.zeros((3,3)),np.ones((3,3))]).T"
   ]
  },
  {
   "cell_type": "code",
   "execution_count": 3,
   "metadata": {},
   "outputs": [
    {
     "data": {
      "text/plain": [
       "array([[1., 1., 1.],\n",
       "       [1., 1., 1.],\n",
       "       [1., 1., 1.]])"
      ]
     },
     "execution_count": 3,
     "metadata": {},
     "output_type": "execute_result"
    }
   ],
   "source": [
    "copa[...,1]"
   ]
  },
  {
   "cell_type": "code",
   "execution_count": 4,
   "metadata": {},
   "outputs": [],
   "source": [
    "path = \"/home/scanner-ml/Artem/\"\n",
    "class_names = ['C30keV','C60keV','gamma']\n",
    "n_pols = 8"
   ]
  },
  {
   "cell_type": "code",
   "execution_count": 5,
   "metadata": {},
   "outputs": [],
   "source": [
    "path_dir = '/home/scanner-ml/Artem/'\n",
    "class_names_ft = ['C30keV','C60keV','C100keV/C1','C100keV/C2','gamma']\n",
    "class_keys = ['C30keV','C60keV','C100keV','gamma']\n",
    "id_header = ['HeaderID','ViewID','GrainID','pol0','pol1','pol2','pol3','pol4','pol5','pol6','pol7','tr_flag','n_pol']\n",
    "feat_names = ['x','y','z','lx','ly','phi','npx','vol','eps']\n",
    "\n",
    "feat_array = []\n",
    "for i in range(8):\n",
    "    feat_array += [n+str(i) for n in feat_names]\n",
    "feat_array += ['tr_flag','n_pol']"
   ]
  },
  {
   "cell_type": "code",
   "execution_count": 6,
   "metadata": {},
   "outputs": [
    {
     "name": "stdout",
     "output_type": "stream",
     "text": [
      "CPU times: user 814 ms, sys: 81.3 ms, total: 895 ms\n",
      "Wall time: 1.28 s\n"
     ]
    }
   ],
   "source": [
    "%%time\n",
    "pol_ids = {}\n",
    "for name in class_names_ft:\n",
    "    pol_ids[name] = pd.read_csv(path_dir+name+'/yandex_bfcl.txt', header=None, names=id_header)\n",
    "    pol_ids[name] = pol_ids[name].sort_values(by=['HeaderID','GrainID'])"
   ]
  },
  {
   "cell_type": "code",
   "execution_count": 7,
   "metadata": {},
   "outputs": [
    {
     "data": {
      "text/html": [
       "<div>\n",
       "<style scoped>\n",
       "    .dataframe tbody tr th:only-of-type {\n",
       "        vertical-align: middle;\n",
       "    }\n",
       "\n",
       "    .dataframe tbody tr th {\n",
       "        vertical-align: top;\n",
       "    }\n",
       "\n",
       "    .dataframe thead th {\n",
       "        text-align: right;\n",
       "    }\n",
       "</style>\n",
       "<table border=\"1\" class=\"dataframe\">\n",
       "  <thead>\n",
       "    <tr style=\"text-align: right;\">\n",
       "      <th></th>\n",
       "      <th>HeaderID</th>\n",
       "      <th>ViewID</th>\n",
       "      <th>GrainID</th>\n",
       "      <th>pol0</th>\n",
       "      <th>pol1</th>\n",
       "      <th>pol2</th>\n",
       "      <th>pol3</th>\n",
       "      <th>pol4</th>\n",
       "      <th>pol5</th>\n",
       "      <th>pol6</th>\n",
       "      <th>pol7</th>\n",
       "      <th>tr_flag</th>\n",
       "      <th>n_pol</th>\n",
       "    </tr>\n",
       "  </thead>\n",
       "  <tbody>\n",
       "    <tr>\n",
       "      <th>0</th>\n",
       "      <td>4</td>\n",
       "      <td>3</td>\n",
       "      <td>1</td>\n",
       "      <td>81200</td>\n",
       "      <td>81322</td>\n",
       "      <td>82433</td>\n",
       "      <td>-1</td>\n",
       "      <td>-1</td>\n",
       "      <td>-1</td>\n",
       "      <td>-1</td>\n",
       "      <td>-1</td>\n",
       "      <td>-1</td>\n",
       "      <td>3</td>\n",
       "    </tr>\n",
       "    <tr>\n",
       "      <th>1</th>\n",
       "      <td>4</td>\n",
       "      <td>3</td>\n",
       "      <td>2</td>\n",
       "      <td>81198</td>\n",
       "      <td>81320</td>\n",
       "      <td>81464</td>\n",
       "      <td>81584</td>\n",
       "      <td>81710</td>\n",
       "      <td>-1</td>\n",
       "      <td>-1</td>\n",
       "      <td>-1</td>\n",
       "      <td>-1</td>\n",
       "      <td>5</td>\n",
       "    </tr>\n",
       "    <tr>\n",
       "      <th>2</th>\n",
       "      <td>4</td>\n",
       "      <td>3</td>\n",
       "      <td>5</td>\n",
       "      <td>-1</td>\n",
       "      <td>-1</td>\n",
       "      <td>-1</td>\n",
       "      <td>-1</td>\n",
       "      <td>81707</td>\n",
       "      <td>-1</td>\n",
       "      <td>-1</td>\n",
       "      <td>-1</td>\n",
       "      <td>-1</td>\n",
       "      <td>1</td>\n",
       "    </tr>\n",
       "    <tr>\n",
       "      <th>3</th>\n",
       "      <td>4</td>\n",
       "      <td>3</td>\n",
       "      <td>6</td>\n",
       "      <td>83502</td>\n",
       "      <td>83510</td>\n",
       "      <td>83515</td>\n",
       "      <td>83520</td>\n",
       "      <td>83532</td>\n",
       "      <td>83545</td>\n",
       "      <td>83558</td>\n",
       "      <td>83576</td>\n",
       "      <td>-1</td>\n",
       "      <td>8</td>\n",
       "    </tr>\n",
       "    <tr>\n",
       "      <th>4</th>\n",
       "      <td>4</td>\n",
       "      <td>3</td>\n",
       "      <td>7</td>\n",
       "      <td>82807</td>\n",
       "      <td>82829</td>\n",
       "      <td>82860</td>\n",
       "      <td>82883</td>\n",
       "      <td>82907</td>\n",
       "      <td>-1</td>\n",
       "      <td>-1</td>\n",
       "      <td>-1</td>\n",
       "      <td>-1</td>\n",
       "      <td>5</td>\n",
       "    </tr>\n",
       "    <tr>\n",
       "      <th>5</th>\n",
       "      <td>4</td>\n",
       "      <td>3</td>\n",
       "      <td>8</td>\n",
       "      <td>79373</td>\n",
       "      <td>79566</td>\n",
       "      <td>79766</td>\n",
       "      <td>79973</td>\n",
       "      <td>80165</td>\n",
       "      <td>80352</td>\n",
       "      <td>80530</td>\n",
       "      <td>-1</td>\n",
       "      <td>3</td>\n",
       "      <td>7</td>\n",
       "    </tr>\n",
       "    <tr>\n",
       "      <th>6</th>\n",
       "      <td>4</td>\n",
       "      <td>3</td>\n",
       "      <td>9</td>\n",
       "      <td>83420</td>\n",
       "      <td>83426</td>\n",
       "      <td>83436</td>\n",
       "      <td>83446</td>\n",
       "      <td>83454</td>\n",
       "      <td>83463</td>\n",
       "      <td>83473</td>\n",
       "      <td>83486</td>\n",
       "      <td>2</td>\n",
       "      <td>8</td>\n",
       "    </tr>\n",
       "    <tr>\n",
       "      <th>7</th>\n",
       "      <td>4</td>\n",
       "      <td>3</td>\n",
       "      <td>20</td>\n",
       "      <td>81173</td>\n",
       "      <td>81286</td>\n",
       "      <td>81428</td>\n",
       "      <td>81556</td>\n",
       "      <td>81686</td>\n",
       "      <td>80336</td>\n",
       "      <td>-1</td>\n",
       "      <td>-1</td>\n",
       "      <td>3</td>\n",
       "      <td>6</td>\n",
       "    </tr>\n",
       "    <tr>\n",
       "      <th>8</th>\n",
       "      <td>4</td>\n",
       "      <td>3</td>\n",
       "      <td>21</td>\n",
       "      <td>-1</td>\n",
       "      <td>81287</td>\n",
       "      <td>81430</td>\n",
       "      <td>81557</td>\n",
       "      <td>81685</td>\n",
       "      <td>81806</td>\n",
       "      <td>81914</td>\n",
       "      <td>82155</td>\n",
       "      <td>-1</td>\n",
       "      <td>7</td>\n",
       "    </tr>\n",
       "    <tr>\n",
       "      <th>9</th>\n",
       "      <td>4</td>\n",
       "      <td>3</td>\n",
       "      <td>22</td>\n",
       "      <td>81184</td>\n",
       "      <td>-1</td>\n",
       "      <td>82428</td>\n",
       "      <td>82476</td>\n",
       "      <td>82524</td>\n",
       "      <td>82579</td>\n",
       "      <td>82635</td>\n",
       "      <td>82165</td>\n",
       "      <td>-1</td>\n",
       "      <td>7</td>\n",
       "    </tr>\n",
       "  </tbody>\n",
       "</table>\n",
       "</div>"
      ],
      "text/plain": [
       "   HeaderID  ViewID  GrainID   pol0   pol1   pol2   pol3   pol4   pol5   pol6  \\\n",
       "0         4       3        1  81200  81322  82433     -1     -1     -1     -1   \n",
       "1         4       3        2  81198  81320  81464  81584  81710     -1     -1   \n",
       "2         4       3        5     -1     -1     -1     -1  81707     -1     -1   \n",
       "3         4       3        6  83502  83510  83515  83520  83532  83545  83558   \n",
       "4         4       3        7  82807  82829  82860  82883  82907     -1     -1   \n",
       "5         4       3        8  79373  79566  79766  79973  80165  80352  80530   \n",
       "6         4       3        9  83420  83426  83436  83446  83454  83463  83473   \n",
       "7         4       3       20  81173  81286  81428  81556  81686  80336     -1   \n",
       "8         4       3       21     -1  81287  81430  81557  81685  81806  81914   \n",
       "9         4       3       22  81184     -1  82428  82476  82524  82579  82635   \n",
       "\n",
       "    pol7  tr_flag  n_pol  \n",
       "0     -1       -1      3  \n",
       "1     -1       -1      5  \n",
       "2     -1       -1      1  \n",
       "3  83576       -1      8  \n",
       "4     -1       -1      5  \n",
       "5     -1        3      7  \n",
       "6  83486        2      8  \n",
       "7     -1        3      6  \n",
       "8  82155       -1      7  \n",
       "9  82165       -1      7  "
      ]
     },
     "execution_count": 7,
     "metadata": {},
     "output_type": "execute_result"
    }
   ],
   "source": [
    "pol_ids['gamma'].head(10)"
   ]
  },
  {
   "cell_type": "code",
   "execution_count": null,
   "metadata": {},
   "outputs": [],
   "source": []
  },
  {
   "cell_type": "markdown",
   "metadata": {},
   "source": [
    "* empty polarizations are loaded with zeros! subject to interpolation?"
   ]
  },
  {
   "cell_type": "code",
   "execution_count": null,
   "metadata": {},
   "outputs": [],
   "source": []
  },
  {
   "cell_type": "code",
   "execution_count": 8,
   "metadata": {},
   "outputs": [
    {
     "data": {
      "text/plain": [
       "['303_gr_204_pol_1_cl_436_tr_3_npol_8.csv',\n",
       " '333_gr_133_pol_6_cl_1628_tr_-1_npol_8.csv',\n",
       " '225_gr_267_pol_3_cl_2489_tr_-1_npol_8.csv']"
      ]
     },
     "execution_count": 8,
     "metadata": {},
     "output_type": "execute_result"
    }
   ],
   "source": [
    "os.listdir('/home/scanner-ml/Artem/C100keV/C2/csvs/')[:3]"
   ]
  },
  {
   "cell_type": "code",
   "execution_count": null,
   "metadata": {},
   "outputs": [],
   "source": []
  },
  {
   "cell_type": "code",
   "execution_count": 9,
   "metadata": {},
   "outputs": [
    {
     "data": {
      "text/plain": [
       "'load raw images. wall time ~12h (4 manual threads)'"
      ]
     },
     "execution_count": 9,
     "metadata": {},
     "output_type": "execute_result"
    }
   ],
   "source": [
    "'''%%time\n",
    "ims = {}\n",
    "for name in class_names_ft:\n",
    "    ims[name] = load_pol_images(pol_ids[name], path_dir, name)\n",
    "    gc.collect()\n",
    "    with h5py.File('data_raw.h5','a') as dfile:\n",
    "        dfile.create_dataset(name+'/images', data=ims[name])\n",
    "'''\n",
    "'load raw images. wall time ~12h (4 manual threads)'"
   ]
  },
  {
   "cell_type": "code",
   "execution_count": 10,
   "metadata": {},
   "outputs": [
    {
     "data": {
      "text/plain": [
       "'load features. wall time ~14h. cpu time ~100h (paralellized automatically)'"
      ]
     },
     "execution_count": 10,
     "metadata": {},
     "output_type": "execute_result"
    }
   ],
   "source": [
    "'''%%time\n",
    "pol_ids = {}\n",
    "for name in class_names_ft:\n",
    "    pol_ids[name] = pd.read_csv(path_dir+name+'/yandex_bfcl.txt', header=None, names=id_header)\n",
    "    pol_ids[name] = pol_ids[name].sort_values(by=['HeaderID','GrainID'])\n",
    "feat_data = {}\n",
    "for name in class_names_ft:\n",
    "    print('loading:  ',name)\n",
    "    feat_data[name] = get_pol_feat(pol_ids[name], n_pol=8, path_dir=path_dir, class_name=name, feat_names=feat_names)\n",
    "\n",
    "with h5py.File('data_raw.h5', 'a') as datafile:\n",
    "    for name in class_names_ft:\n",
    "        datafile.create_dataset(name+'/features', data=feat_data[name])\n",
    "'''\n",
    "        \n",
    "'load features. wall time ~14h. cpu time ~100h (paralellized automatically)'"
   ]
  },
  {
   "cell_type": "code",
   "execution_count": 11,
   "metadata": {},
   "outputs": [
    {
     "name": "stdout",
     "output_type": "stream",
     "text": [
      "C30keV    \timgs:  (182179, 32, 32, 8) \tfeats:  (182179, 74)\n",
      "C60keV    \timgs:  (189537, 32, 32, 8) \tfeats:  (189537, 74)\n",
      "C100keV/C1    \timgs:  (108162, 32, 32, 8) \tfeats:  (108162, 74)\n",
      "C100keV/C2    \timgs:  (95683, 32, 32, 8) \tfeats:  (95683, 74)\n",
      "gamma    \timgs:  (217100, 32, 32, 8) \tfeats:  (217100, 74)\n",
      "CPU times: user 8.53 ms, sys: 2.89 s, total: 2.89 s\n",
      "Wall time: 14.4 s\n"
     ]
    }
   ],
   "source": [
    "%%time\n",
    "ims, feats = {}, {}\n",
    "with h5py.File('data_raw.h5','r') as dfile:\n",
    "    for name in class_names_ft:\n",
    "        ims[name] = dfile[name+'/images'][...]\n",
    "        feats[name] = pd.DataFrame(data=dfile[name+'/features'][...], columns=feat_array)\n",
    "        print(name,'   \\timgs: ',ims[name].shape,'\\tfeats: ',feats[name].shape)\n"
   ]
  },
  {
   "cell_type": "code",
   "execution_count": 12,
   "metadata": {},
   "outputs": [
    {
     "name": "stdout",
     "output_type": "stream",
     "text": [
      "C100keV    \timgs:  (203845, 32, 32, 8) \tfeats:  (203845, 74)\n"
     ]
    }
   ],
   "source": [
    "name = 'C100keV'\n",
    "ims[name] = np.vstack((ims['C100keV/C1'],ims['C100keV/C2']))\n",
    "feats[name] = pd.DataFrame(data=np.vstack((feats['C100keV/C1'].values,\n",
    "                                           feats['C100keV/C2'].values)), columns=feat_array)\n",
    "pol_ids[name] = pd.DataFrame(data=np.vstack((pol_ids['C100keV/C1'].values,\n",
    "                                           pol_ids['C100keV/C2'].values)), columns=id_header)\n",
    "print(name,'   \\timgs: ',ims[name].shape,'\\tfeats: ',feats[name].shape)"
   ]
  },
  {
   "cell_type": "code",
   "execution_count": null,
   "metadata": {},
   "outputs": [],
   "source": []
  },
  {
   "cell_type": "code",
   "execution_count": null,
   "metadata": {},
   "outputs": [],
   "source": []
  },
  {
   "cell_type": "code",
   "execution_count": 13,
   "metadata": {},
   "outputs": [
    {
     "name": "stdout",
     "output_type": "stream",
     "text": [
      "Cleaning divergent samples and edge images\n",
      "Splitting into train-val-test (80-10-10) and saving to dataset_clean.h5\n",
      "50458 \tBad  C30keV\n",
      "61307 \tBad  C60keV\n",
      "72722 \tBad  C100keV\n",
      "127785 \tBad  gamma\n",
      "CPU times: user 4min 2s, sys: 25.8 s, total: 4min 28s\n",
      "Wall time: 4min 5s\n"
     ]
    }
   ],
   "source": [
    "%%time\n",
    "print('Cleaning divergent samples and edge images')\n",
    "print('Splitting into train-val-test (80-10-10) and saving to dataset_clean.h5')\n",
    "bads = {}\n",
    "for name in class_keys:\n",
    "    bads[name] = bad_inds(pol_ids[name], imgs=ims[name], features=feats[name],\n",
    "                          isolated=True, quant=0.999, f_name=name)\n",
    "    mask = np.ones(pol_ids[name].shape[0], dtype=bool)\n",
    "    mask[bads[name]] = False\n",
    "    tmp_ims = ims[name][mask]\n",
    "    im_tr_val, im_test = train_test_split(tmp_ims, test_size=0.1, shuffle=False)\n",
    "    im_tr, im_val = train_test_split(im_tr_val, test_size=0.11, shuffle=False)\n",
    "    tmp_feat = (feats[name].values)[mask]\n",
    "    feat_tr_val, feat_test = train_test_split(tmp_feat, test_size=0.1, shuffle=False)\n",
    "    feat_tr, feat_val = train_test_split(feat_tr_val, test_size=0.11, shuffle=False)\n",
    "    \n",
    "    with h5py.File('dataset_clean.h5', 'a') as datafile:\n",
    "        datafile.create_dataset(name+'/images/train', data=im_tr)\n",
    "        datafile.create_dataset(name+'/images/val', data=im_val)\n",
    "        datafile.create_dataset(name+'/images/test', data=im_test)\n",
    "        datafile.create_dataset(name+'/features/train', data=feat_tr)\n",
    "        datafile.create_dataset(name+'/features/val', data=feat_val)\n",
    "        datafile.create_dataset(name+'/features/test', data=feat_test)\n",
    "    _=gc.collect()\n",
    "\n",
    "\n",
    "_='''print('Wall time ~4 min\\n')\n",
    "for name in class_names_ft:\n",
    "    f_name = '_'.join(name.split('/'))\n",
    "    print(np.loadtxt('bad_sample_ids/'+f_name+'.txt').shape[0], '\\tBad ',f_name)'''"
   ]
  },
  {
   "cell_type": "code",
   "execution_count": 14,
   "metadata": {},
   "outputs": [
    {
     "name": "stdout",
     "output_type": "stream",
     "text": [
      "C30keV:\n",
      "images:\n",
      "train:  (105507, 32, 32, 8) \tval:  (13041, 32, 32, 8) \ttest:  (13173, 32, 32, 8) \t\n",
      "features:\n",
      "train:  (105507, 74)\t\tval:  (13041, 74)\t\ttest:  (13173, 74)\t\t\n",
      "\n",
      "C60keV:\n",
      "images:\n",
      "train:  (102712, 32, 32, 8) \tval:  (12695, 32, 32, 8) \ttest:  (12823, 32, 32, 8) \t\n",
      "features:\n",
      "train:  (102712, 74)\t\tval:  (12695, 74)\t\ttest:  (12823, 74)\t\t\n",
      "\n",
      "C100keV:\n",
      "images:\n",
      "train:  (105028, 32, 32, 8) \tval:  (12982, 32, 32, 8) \ttest:  (13113, 32, 32, 8) \t\n",
      "features:\n",
      "train:  (105028, 74)\t\tval:  (12982, 74)\t\ttest:  (13113, 74)\t\t\n",
      "\n",
      "gamma:\n",
      "images:\n",
      "train:  (71540, 32, 32, 8) \tval:  (8843, 32, 32, 8) \ttest:  (8932, 32, 32, 8) \t\n",
      "features:\n",
      "train:  (71540, 74)\t\tval:  (8843, 74)\t\ttest:  (8932, 74)\t\t\n",
      "\n"
     ]
    }
   ],
   "source": [
    "with h5py.File('dataset_clean.h5', 'r') as dfile:\n",
    "    for name in class_keys:\n",
    "        print(name+':')\n",
    "        for i in ['images','features']:\n",
    "            print(i+':')\n",
    "            for t in ['train','val','test']:\n",
    "                pr = ' \\t' if i=='images' else '\\t\\t'\n",
    "                print(t+': ', dfile[name+'/'+i+'/'+t].shape, end=pr)\n",
    "            print('',end='\\n')\n",
    "        print('',end='\\n')"
   ]
  },
  {
   "cell_type": "code",
   "execution_count": null,
   "metadata": {},
   "outputs": [],
   "source": []
  },
  {
   "cell_type": "code",
   "execution_count": null,
   "metadata": {},
   "outputs": [],
   "source": []
  },
  {
   "cell_type": "code",
   "execution_count": null,
   "metadata": {},
   "outputs": [],
   "source": []
  },
  {
   "cell_type": "code",
   "execution_count": null,
   "metadata": {},
   "outputs": [],
   "source": []
  },
  {
   "cell_type": "code",
   "execution_count": null,
   "metadata": {},
   "outputs": [],
   "source": []
  },
  {
   "cell_type": "code",
   "execution_count": null,
   "metadata": {},
   "outputs": [],
   "source": []
  },
  {
   "cell_type": "code",
   "execution_count": null,
   "metadata": {},
   "outputs": [],
   "source": []
  },
  {
   "cell_type": "code",
   "execution_count": null,
   "metadata": {},
   "outputs": [],
   "source": []
  },
  {
   "cell_type": "markdown",
   "metadata": {},
   "source": [
    "* Example of loading the libDMRoot in PyROOT"
   ]
  },
  {
   "cell_type": "code",
   "execution_count": 15,
   "metadata": {},
   "outputs": [
    {
     "name": "stderr",
     "output_type": "stream",
     "text": [
      "Warning in <TClass::Init>: no dictionary for class DMRViewHeader is available\n",
      "Warning in <TClass::Init>: no dictionary for class DMRAffine2D is available\n",
      "Warning in <TClass::Init>: no dictionary for class DMRCluster is available\n",
      "Warning in <TClass::Init>: no dictionary for class DMRGrain is available\n",
      "Warning in <TClass::Init>: no dictionary for class DMRMicrotrack is available\n",
      "Warning in <TClass::Init>: no dictionary for class DMRImageCl is available\n",
      "Warning in <TClass::Init>: no dictionary for class DMRImage is available\n",
      "Warning in <TClass::Init>: no dictionary for class DMRFrame is available\n"
     ]
    }
   ],
   "source": [
    "f = ROOT.TFile.Open(path_dir+'C60keV/dm_tracks.dm.root','read')"
   ]
  },
  {
   "cell_type": "code",
   "execution_count": 16,
   "metadata": {},
   "outputs": [
    {
     "data": {
      "text/plain": [
       "0"
      ]
     },
     "execution_count": 16,
     "metadata": {},
     "output_type": "execute_result"
    },
    {
     "name": "stderr",
     "output_type": "stream",
     "text": [
      "Error in <TCling::RegisterModule>: cannot find dictionary module DMRootCint_rdict.pcm\n"
     ]
    }
   ],
   "source": [
    "ROOT.gSystem.Load('libDMRoot')"
   ]
  },
  {
   "cell_type": "code",
   "execution_count": 17,
   "metadata": {},
   "outputs": [
    {
     "name": "stdout",
     "output_type": "stream",
     "text": [
      "DMRRun::OpenExisting: Open an existing file dm_tracks.dm.root\n",
      "DMRRun::Open    : ERROR: dm_tracks.dm.root has no Vdmr tree\n"
     ]
    }
   ],
   "source": [
    "arun = ROOT.DMRRun(\"dm_tracks.dm.root\")"
   ]
  },
  {
   "cell_type": "code",
   "execution_count": null,
   "metadata": {},
   "outputs": [],
   "source": []
  }
 ],
 "metadata": {
  "kernelspec": {
   "display_name": "Python 3",
   "language": "python",
   "name": "python3"
  },
  "language_info": {
   "codemirror_mode": {
    "name": "ipython",
    "version": 3
   },
   "file_extension": ".py",
   "mimetype": "text/x-python",
   "name": "python",
   "nbconvert_exporter": "python",
   "pygments_lexer": "ipython3",
   "version": "3.6.6"
  }
 },
 "nbformat": 4,
 "nbformat_minor": 2
}
